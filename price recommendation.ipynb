{
 "cells": [
  {
   "cell_type": "code",
   "execution_count": 0,
   "metadata": {
    "colab": {
     "base_uri": "https://localhost:8080/",
     "height": 55
    },
    "colab_type": "code",
    "executionInfo": {
     "elapsed": 1860,
     "status": "ok",
     "timestamp": 1585132840291,
     "user": {
      "displayName": "Sai Chaitanya",
      "photoUrl": "https://lh3.googleusercontent.com/a-/AOh14GiokkA-EF_CT2Gr3fZYT6Vfi-QuzaU0qgUO2z0q=s64",
      "userId": "08286913039080874450"
     },
     "user_tz": -330
    },
    "id": "GEnXAElWRY-6",
    "outputId": "1639ea15-3c00-466e-b5e8-61e4ee3dc680"
   },
   "outputs": [
    {
     "name": "stdout",
     "output_type": "stream",
     "text": [
      "Drive already mounted at /content/drive; to attempt to forcibly remount, call drive.mount(\"/content/drive\", force_remount=True).\n"
     ]
    }
   ],
   "source": [
    "from google.colab import drive\n",
    "drive.mount('/content/drive')"
   ]
  },
  {
   "cell_type": "code",
   "execution_count": 0,
   "metadata": {
    "colab": {
     "base_uri": "https://localhost:8080/",
     "height": 228
    },
    "colab_type": "code",
    "executionInfo": {
     "elapsed": 13614,
     "status": "ok",
     "timestamp": 1585126533985,
     "user": {
      "displayName": "Sai Chaitanya",
      "photoUrl": "https://lh3.googleusercontent.com/a-/AOh14GiokkA-EF_CT2Gr3fZYT6Vfi-QuzaU0qgUO2z0q=s64",
      "userId": "08286913039080874450"
     },
     "user_tz": -330
    },
    "id": "hYoVRmRL5nHm",
    "outputId": "b6aa093f-a0a2-4498-82de-fae3a0e0204d"
   },
   "outputs": [
    {
     "name": "stdout",
     "output_type": "stream",
     "text": [
      "--2020-03-25 08:55:21--  https://storage.googleapis.com/kagglesdsdata/competitions/7559/44327/test_stg2.tsv.zip?GoogleAccessId=web-data@kaggle-161607.iam.gserviceaccount.com&Expires=1585385694&Signature=dR4rseKUL7LJR%2BMw9e5H5h2BXwGE6b0%2FLLnbnErcQj9XI%2FJ954K50ZLfUWmSlQSW7rF0ifxC5dJuVHQK2GB2k50NUgMXUI6%2Fk4YCNj6y9P8iikWuEgCBsprDClcdKLq8iNtowRcFRwk6RFQQeFTaZpvN2t8DQYwFcrTQrLD2OaU9itX4Z5HNXSwo6myy36EXBAigT18Ey%2B145JgfAI0XYl%2FPyeeGYmUtP4zuP2c%2FWRZmhINr16mnCQOmaLTk%2BxAwWK2dTwrnCxKj6Gbd%2FSaQS%2BUsnrBheS3XTE52rJEwhpURk2DWhcwaUvLrWIz7abAdxIS27TiXYGKom4IcWjRj%2Bg%3D%3D&response-content-disposition=attachment%3B+filename%3Dtest_stg2.tsv.zip\n",
      "Resolving storage.googleapis.com (storage.googleapis.com)... 74.125.203.128, 2404:6800:4008:c03::80\n",
      "Connecting to storage.googleapis.com (storage.googleapis.com)|74.125.203.128|:443... connected.\n",
      "HTTP request sent, awaiting response... 200 OK\n",
      "Length: 308669128 (294M) [application/zip]\n",
      "Saving to: ‘test_stg2.tsv.zip’\n",
      "\n",
      "test_stg2.tsv.zip   100%[===================>] 294.37M  40.7MB/s    in 7.2s    \n",
      "\n",
      "2020-03-25 08:55:29 (40.7 MB/s) - ‘test_stg2.tsv.zip’ saved [308669128/308669128]\n",
      "\n"
     ]
    }
   ],
   "source": [
    "!wget --header=\"Host: storage.googleapis.com\" --header=\"User-Agent: Mozilla/5.0 (Windows NT 10.0; Win64; x64) AppleWebKit/537.36 (KHTML, like Gecko) Chrome/80.0.3987.149 Safari/537.36\" --header=\"Accept: text/html,application/xhtml+xml,application/xml;q=0.9,image/webp,image/apng,*/*;q=0.8,application/signed-exchange;v=b3;q=0.9\" --header=\"Accept-Language: en-IN,en;q=0.9,en-GB;q=0.8,en-US;q=0.7,te;q=0.6,ru;q=0.5\" --header=\"Referer: https://www.kaggle.com/\" \"https://storage.googleapis.com/kagglesdsdata/competitions/7559/44327/test_stg2.tsv.zip?GoogleAccessId=web-data@kaggle-161607.iam.gserviceaccount.com&Expires=1585385694&Signature=dR4rseKUL7LJR%2BMw9e5H5h2BXwGE6b0%2FLLnbnErcQj9XI%2FJ954K50ZLfUWmSlQSW7rF0ifxC5dJuVHQK2GB2k50NUgMXUI6%2Fk4YCNj6y9P8iikWuEgCBsprDClcdKLq8iNtowRcFRwk6RFQQeFTaZpvN2t8DQYwFcrTQrLD2OaU9itX4Z5HNXSwo6myy36EXBAigT18Ey%2B145JgfAI0XYl%2FPyeeGYmUtP4zuP2c%2FWRZmhINr16mnCQOmaLTk%2BxAwWK2dTwrnCxKj6Gbd%2FSaQS%2BUsnrBheS3XTE52rJEwhpURk2DWhcwaUvLrWIz7abAdxIS27TiXYGKom4IcWjRj%2Bg%3D%3D&response-content-disposition=attachment%3B+filename%3Dtest_stg2.tsv.zip\" -O \"test_stg2.tsv.zip\" -c"
   ]
  },
  {
   "cell_type": "code",
   "execution_count": 0,
   "metadata": {
    "colab": {
     "base_uri": "https://localhost:8080/",
     "height": 52
    },
    "colab_type": "code",
    "executionInfo": {
     "elapsed": 17598,
     "status": "ok",
     "timestamp": 1585126545108,
     "user": {
      "displayName": "Sai Chaitanya",
      "photoUrl": "https://lh3.googleusercontent.com/a-/AOh14GiokkA-EF_CT2Gr3fZYT6Vfi-QuzaU0qgUO2z0q=s64",
      "userId": "08286913039080874450"
     },
     "user_tz": -330
    },
    "id": "du1tAdHInUqa",
    "outputId": "e5bfe94e-72a2-41aa-9677-12a2f0fcd99f"
   },
   "outputs": [
    {
     "name": "stdout",
     "output_type": "stream",
     "text": [
      "Archive:  /content/test_stg2.tsv.zip\n",
      "  inflating: test_stg2.tsv           \n"
     ]
    }
   ],
   "source": [
    "!unzip '/content/test_stg2.tsv.zip'"
   ]
  },
  {
   "cell_type": "code",
   "execution_count": 0,
   "metadata": {
    "colab": {
     "base_uri": "https://localhost:8080/",
     "height": 87
    },
    "colab_type": "code",
    "executionInfo": {
     "elapsed": 3450,
     "status": "ok",
     "timestamp": 1585132852039,
     "user": {
      "displayName": "Sai Chaitanya",
      "photoUrl": "https://lh3.googleusercontent.com/a-/AOh14GiokkA-EF_CT2Gr3fZYT6Vfi-QuzaU0qgUO2z0q=s64",
      "userId": "08286913039080874450"
     },
     "user_tz": -330
    },
    "id": "CAN55OeAPoe6",
    "outputId": "162ea5a5-f112-4704-9667-832945182e3a"
   },
   "outputs": [
    {
     "name": "stdout",
     "output_type": "stream",
     "text": [
      "[nltk_data] Downloading package stopwords to /root/nltk_data...\n",
      "[nltk_data]   Package stopwords is already up-to-date!\n",
      "[nltk_data] Downloading package vader_lexicon to /root/nltk_data...\n",
      "[nltk_data]   Package vader_lexicon is already up-to-date!\n"
     ]
    }
   ],
   "source": [
    "import pandas as pd\n",
    "import numpy as np\n",
    "import math\n",
    "import matplotlib.pyplot as plt\n",
    "import seaborn as sns\n",
    "from prettytable import PrettyTable\n",
    "import warnings\n",
    "warnings.filterwarnings('ignore')\n",
    "from sklearn.model_selection import train_test_split\n",
    "from sklearn.model_selection import GridSearchCV\n",
    "import nltk\n",
    "nltk.download('stopwords')\n",
    "from nltk.corpus import stopwords\n",
    "from tqdm import tqdm\n",
    "import re\n",
    "import collections\n",
    "from wordcloud import STOPWORDS\n",
    "from scipy.sparse import csr_matrix\n",
    "from nltk.sentiment.vader import SentimentIntensityAnalyzer\n",
    "nltk.download('vader_lexicon')\n",
    "from sklearn.feature_extraction.text import TfidfVectorizer\n",
    "from sklearn.feature_extraction.text import CountVectorizer\n",
    "from sklearn.preprocessing import StandardScaler\n",
    "from sklearn.preprocessing import Normalizer\n",
    "from sklearn.preprocessing import MinMaxScaler\n",
    "from sklearn.linear_model import Ridge\n",
    "from sklearn.linear_model import Lasso\n",
    "from sklearn.linear_model import SGDRegressor\n",
    "from lightgbm import LGBMRegressor\n",
    "from sklearn.linear_model import LinearRegression\n",
    "from sklearn.metrics import mean_squared_error\n",
    "from sklearn.metrics import mean_squared_log_error\n",
    "from wordcloud import WordCloud"
   ]
  },
  {
   "cell_type": "code",
   "execution_count": 0,
   "metadata": {
    "colab": {},
    "colab_type": "code",
    "id": "PbM6TiGentjf"
   },
   "outputs": [],
   "source": [
    "test2=pd.read_table('/content/test_stg2.tsv',sep='\\t')\n",
    "test2.to_csv('/content/mercari_test.csv',index=False)"
   ]
  },
  {
   "cell_type": "code",
   "execution_count": 0,
   "metadata": {
    "colab": {},
    "colab_type": "code",
    "id": "mDDUyF89SOnd"
   },
   "outputs": [],
   "source": [
    "del test2"
   ]
  },
  {
   "cell_type": "code",
   "execution_count": 0,
   "metadata": {
    "colab": {
     "base_uri": "https://localhost:8080/",
     "height": 317
    },
    "colab_type": "code",
    "executionInfo": {
     "elapsed": 67724,
     "status": "ok",
     "timestamp": 1585132927102,
     "user": {
      "displayName": "Sai Chaitanya",
      "photoUrl": "https://lh3.googleusercontent.com/a-/AOh14GiokkA-EF_CT2Gr3fZYT6Vfi-QuzaU0qgUO2z0q=s64",
      "userId": "08286913039080874450"
     },
     "user_tz": -330
    },
    "id": "a26Mq0aCL8X1",
    "outputId": "1747dda6-e7c2-4088-cef4-6eaaec647b00"
   },
   "outputs": [
    {
     "data": {
      "text/html": [
       "<div>\n",
       "<style scoped>\n",
       "    .dataframe tbody tr th:only-of-type {\n",
       "        vertical-align: middle;\n",
       "    }\n",
       "\n",
       "    .dataframe tbody tr th {\n",
       "        vertical-align: top;\n",
       "    }\n",
       "\n",
       "    .dataframe thead th {\n",
       "        text-align: right;\n",
       "    }\n",
       "</style>\n",
       "<table border=\"1\" class=\"dataframe\">\n",
       "  <thead>\n",
       "    <tr style=\"text-align: right;\">\n",
       "      <th></th>\n",
       "      <th>train_id</th>\n",
       "      <th>name</th>\n",
       "      <th>item_condition_id</th>\n",
       "      <th>category_name</th>\n",
       "      <th>brand_name</th>\n",
       "      <th>price</th>\n",
       "      <th>shipping</th>\n",
       "      <th>item_description</th>\n",
       "    </tr>\n",
       "  </thead>\n",
       "  <tbody>\n",
       "    <tr>\n",
       "      <th>0</th>\n",
       "      <td>0</td>\n",
       "      <td>MLB Cincinnati Reds T Shirt Size XL</td>\n",
       "      <td>3</td>\n",
       "      <td>Men/Tops/T-shirts</td>\n",
       "      <td>NaN</td>\n",
       "      <td>10.0</td>\n",
       "      <td>1</td>\n",
       "      <td>No description yet</td>\n",
       "    </tr>\n",
       "    <tr>\n",
       "      <th>1</th>\n",
       "      <td>1</td>\n",
       "      <td>Razer BlackWidow Chroma Keyboard</td>\n",
       "      <td>3</td>\n",
       "      <td>Electronics/Computers &amp; Tablets/Components &amp; P...</td>\n",
       "      <td>Razer</td>\n",
       "      <td>52.0</td>\n",
       "      <td>0</td>\n",
       "      <td>This keyboard is in great condition and works ...</td>\n",
       "    </tr>\n",
       "    <tr>\n",
       "      <th>2</th>\n",
       "      <td>2</td>\n",
       "      <td>AVA-VIV Blouse</td>\n",
       "      <td>1</td>\n",
       "      <td>Women/Tops &amp; Blouses/Blouse</td>\n",
       "      <td>Target</td>\n",
       "      <td>10.0</td>\n",
       "      <td>1</td>\n",
       "      <td>Adorable top with a hint of lace and a key hol...</td>\n",
       "    </tr>\n",
       "  </tbody>\n",
       "</table>\n",
       "</div>"
      ],
      "text/plain": [
       "   train_id  ...                                   item_description\n",
       "0         0  ...                                 No description yet\n",
       "1         1  ...  This keyboard is in great condition and works ...\n",
       "2         2  ...  Adorable top with a hint of lace and a key hol...\n",
       "\n",
       "[3 rows x 8 columns]"
      ]
     },
     "execution_count": 5,
     "metadata": {
      "tags": []
     },
     "output_type": "execute_result"
    }
   ],
   "source": [
    "train_data=pd.read_csv(\"/content/drive/My Drive/mercani_train.csv\")\n",
    "train_data.head(3)"
   ]
  },
  {
   "cell_type": "code",
   "execution_count": 0,
   "metadata": {
    "colab": {
     "base_uri": "https://localhost:8080/",
     "height": 173
    },
    "colab_type": "code",
    "executionInfo": {
     "elapsed": 63552,
     "status": "ok",
     "timestamp": 1585132927106,
     "user": {
      "displayName": "Sai Chaitanya",
      "photoUrl": "https://lh3.googleusercontent.com/a-/AOh14GiokkA-EF_CT2Gr3fZYT6Vfi-QuzaU0qgUO2z0q=s64",
      "userId": "08286913039080874450"
     },
     "user_tz": -330
    },
    "id": "1Em89oRGMjtZ",
    "outputId": "28520c39-6caa-4588-cd78-319f9f73bb7f"
   },
   "outputs": [
    {
     "data": {
      "text/plain": [
       "train_id                  0\n",
       "name                      0\n",
       "item_condition_id         0\n",
       "category_name          6327\n",
       "brand_name           632682\n",
       "price                     0\n",
       "shipping                  0\n",
       "item_description          4\n",
       "dtype: int64"
      ]
     },
     "execution_count": 6,
     "metadata": {
      "tags": []
     },
     "output_type": "execute_result"
    }
   ],
   "source": [
    "train_data.isnull().sum()"
   ]
  },
  {
   "cell_type": "code",
   "execution_count": 0,
   "metadata": {
    "colab": {
     "base_uri": "https://localhost:8080/",
     "height": 69
    },
    "colab_type": "code",
    "executionInfo": {
     "elapsed": 60992,
     "status": "ok",
     "timestamp": 1585132927111,
     "user": {
      "displayName": "Sai Chaitanya",
      "photoUrl": "https://lh3.googleusercontent.com/a-/AOh14GiokkA-EF_CT2Gr3fZYT6Vfi-QuzaU0qgUO2z0q=s64",
      "userId": "08286913039080874450"
     },
     "user_tz": -330
    },
    "id": "fJIxvOdL0AwY",
    "outputId": "258a4fbf-1f24-4805-e790-50c75cdecb23"
   },
   "outputs": [
    {
     "name": "stdout",
     "output_type": "stream",
     "text": [
      "Number of Nan values in category_name: 0.42676901388500105%\n",
      "Number of Nan values in brand_name: 42.675687251902986%\n",
      "Number of Nan values in item_description: 0.0002698081326916397%\n"
     ]
    }
   ],
   "source": [
    "print(\"Number of Nan values in category_name: {}%\".format((train_data['category_name'].isnull().sum()/train_data.shape[0])*100))\n",
    "print(\"Number of Nan values in brand_name: {}%\".format((train_data['brand_name'].isnull().sum()/train_data.shape[0])*100))\n",
    "print(\"Number of Nan values in item_description: {}%\".format((train_data['item_description'].isnull().sum()/train_data.shape[0])*100))"
   ]
  },
  {
   "cell_type": "code",
   "execution_count": 0,
   "metadata": {
    "colab": {
     "base_uri": "https://localhost:8080/",
     "height": 52
    },
    "colab_type": "code",
    "executionInfo": {
     "elapsed": 58020,
     "status": "ok",
     "timestamp": 1585132928290,
     "user": {
      "displayName": "Sai Chaitanya",
      "photoUrl": "https://lh3.googleusercontent.com/a-/AOh14GiokkA-EF_CT2Gr3fZYT6Vfi-QuzaU0qgUO2z0q=s64",
      "userId": "08286913039080874450"
     },
     "user_tz": -330
    },
    "id": "4F4Y1_qIC5ln",
    "outputId": "8114c62a-b0ff-4621-8abd-6352f98d1619"
   },
   "outputs": [
    {
     "name": "stdout",
     "output_type": "stream",
     "text": [
      "(1333494, 8)\n",
      "(148167, 8)\n"
     ]
    }
   ],
   "source": [
    "train_data = train_data[train_data['price'] > 0].reset_index(drop=True)\n",
    "train_data,cv_data=train_test_split(train_data,test_size=0.1,random_state=42)\n",
    "print(train_data.shape)\n",
    "print(cv_data.shape)"
   ]
  },
  {
   "cell_type": "code",
   "execution_count": 0,
   "metadata": {
    "colab": {},
    "colab_type": "code",
    "id": "9mq0KbXmENMS"
   },
   "outputs": [],
   "source": [
    "train=train_data.copy()\n",
    "val=cv_data.copy()"
   ]
  },
  {
   "cell_type": "code",
   "execution_count": null,
   "metadata": {
    "colab_type": "text",
    "id": "lHBFgFxJMpOS"
   },
   "outputs": [],
   "source": [
    "#We can see that our data consists of Null values.\n",
    "#As a formost step we need to fill the Null values with the most prominent values.\n",
    "#We can see the category name consists of three subcategories in each row as a preprocessing step\n",
    "#let's make them into three different categories and filling the Nan values with empty string values."
   ]
  },
  {
   "cell_type": "code",
   "execution_count": null,
   "metadata": {
    "colab_type": "text",
    "id": "jpcco17gNIhy"
   },
   "outputs": [],
   "source": [
    "#Handling Nan Values"
   ]
  },
  {
   "cell_type": "code",
   "execution_count": 0,
   "metadata": {
    "colab": {},
    "colab_type": "code",
    "id": "hwKG2uOUwVKs"
   },
   "outputs": [],
   "source": [
    "def handle_category(data):\n",
    "  \"\"\"this function splits the category_name into further three sub_categories.\"\"\"\n",
    "  cat1=[]\n",
    "  cat2=[]\n",
    "  cat3=[]\n",
    "  i=0\n",
    "  for row in data:\n",
    "    try:\n",
    "      categories=row.split('/')\n",
    "    except:\n",
    "      categories=['','','']\n",
    "    cat1.append(categories[0])\n",
    "    cat2.append(categories[1])\n",
    "    cat3.append(categories[2])\n",
    "    i+=1\n",
    "  return cat1,cat2,cat3"
   ]
  },
  {
   "cell_type": "code",
   "execution_count": 0,
   "metadata": {
    "colab": {},
    "colab_type": "code",
    "id": "tlgg1F-ExBbv"
   },
   "outputs": [],
   "source": [
    "c1,c2,c3=handle_category(train_data['category_name'])\n",
    "train_data['sub_category1']=c1\n",
    "train_data['sub_category2']=c2\n",
    "train_data['sub_category3']=c3\n",
    "c1,c2,c3=handle_category(cv_data['category_name'])\n",
    "cv_data['sub_category1']=c1\n",
    "cv_data['sub_category2']=c2\n",
    "cv_data['sub_category3']=c3"
   ]
  },
  {
   "cell_type": "code",
   "execution_count": 0,
   "metadata": {
    "colab": {
     "base_uri": "https://localhost:8080/",
     "height": 225
    },
    "colab_type": "code",
    "executionInfo": {
     "elapsed": 4030,
     "status": "ok",
     "timestamp": 1585132935077,
     "user": {
      "displayName": "Sai Chaitanya",
      "photoUrl": "https://lh3.googleusercontent.com/a-/AOh14GiokkA-EF_CT2Gr3fZYT6Vfi-QuzaU0qgUO2z0q=s64",
      "userId": "08286913039080874450"
     },
     "user_tz": -330
    },
    "id": "zSDn3nTcMocy",
    "outputId": "cd5721f9-cac4-45cd-e004-599e1dec5e3e"
   },
   "outputs": [
    {
     "data": {
      "text/plain": [
       "train_id                0\n",
       "name                    0\n",
       "item_condition_id       0\n",
       "category_name        5661\n",
       "brand_name              0\n",
       "price                   0\n",
       "shipping                0\n",
       "item_description        0\n",
       "sub_category1           0\n",
       "sub_category2           0\n",
       "sub_category3           0\n",
       "dtype: int64"
      ]
     },
     "execution_count": 12,
     "metadata": {
      "tags": []
     },
     "output_type": "execute_result"
    }
   ],
   "source": [
    "train_data['item_description'].fillna(value='No description given',inplace=True)\n",
    "train_data['brand_name'].fillna(value='Not known',inplace=True)\n",
    "train_data.isnull().sum()"
   ]
  },
  {
   "cell_type": "code",
   "execution_count": 0,
   "metadata": {
    "colab": {
     "base_uri": "https://localhost:8080/",
     "height": 225
    },
    "colab_type": "code",
    "executionInfo": {
     "elapsed": 3965,
     "status": "ok",
     "timestamp": 1585132935081,
     "user": {
      "displayName": "Sai Chaitanya",
      "photoUrl": "https://lh3.googleusercontent.com/a-/AOh14GiokkA-EF_CT2Gr3fZYT6Vfi-QuzaU0qgUO2z0q=s64",
      "userId": "08286913039080874450"
     },
     "user_tz": -330
    },
    "id": "BR44-hMIElKV",
    "outputId": "93eb67ee-07e9-4656-972a-ca22db2410dd"
   },
   "outputs": [
    {
     "data": {
      "text/plain": [
       "train_id               0\n",
       "name                   0\n",
       "item_condition_id      0\n",
       "category_name        653\n",
       "brand_name             0\n",
       "price                  0\n",
       "shipping               0\n",
       "item_description       0\n",
       "sub_category1          0\n",
       "sub_category2          0\n",
       "sub_category3          0\n",
       "dtype: int64"
      ]
     },
     "execution_count": 13,
     "metadata": {
      "tags": []
     },
     "output_type": "execute_result"
    }
   ],
   "source": [
    "cv_data['item_description'].fillna(value='No description given',inplace=True)\n",
    "cv_data['brand_name'].fillna(value='Not known',inplace=True)\n",
    "cv_data.isnull().sum()"
   ]
  },
  {
   "cell_type": "code",
   "execution_count": null,
   "metadata": {
    "colab_type": "text",
    "id": "AiWjlMN9Qcis"
   },
   "outputs": [],
   "source": [
    "#Loading Testing Data"
   ]
  },
  {
   "cell_type": "code",
   "execution_count": 0,
   "metadata": {
    "colab": {},
    "colab_type": "code",
    "id": "-DkCuhvHQKTm"
   },
   "outputs": [],
   "source": [
    "test_data=pd.read_csv(\"/content/mercari_test.csv\")\n",
    "test_data.head(3)\n",
    "test=test_data.copy()"
   ]
  },
  {
   "cell_type": "code",
   "execution_count": 0,
   "metadata": {
    "colab": {
     "base_uri": "https://localhost:8080/",
     "height": 173
    },
    "colab_type": "code",
    "executionInfo": {
     "elapsed": 13352,
     "status": "ok",
     "timestamp": 1585132944539,
     "user": {
      "displayName": "Sai Chaitanya",
      "photoUrl": "https://lh3.googleusercontent.com/a-/AOh14GiokkA-EF_CT2Gr3fZYT6Vfi-QuzaU0qgUO2z0q=s64",
      "userId": "08286913039080874450"
     },
     "user_tz": -330
    },
    "id": "f6VdBlsuQxxn",
    "outputId": "d3b471ad-8f71-4389-d67f-e9d9774442e6"
   },
   "outputs": [
    {
     "name": "stdout",
     "output_type": "stream",
     "text": [
      "shape of the test data:  (3460725, 7)\n"
     ]
    },
    {
     "data": {
      "text/plain": [
       "test_id                    0\n",
       "name                       0\n",
       "item_condition_id          0\n",
       "category_name          14833\n",
       "brand_name           1476490\n",
       "shipping                   0\n",
       "item_description           6\n",
       "dtype: int64"
      ]
     },
     "execution_count": 15,
     "metadata": {
      "tags": []
     },
     "output_type": "execute_result"
    }
   ],
   "source": [
    "print(\"shape of the test data: \",test_data.shape)\n",
    "test_data.isnull().sum()"
   ]
  },
  {
   "cell_type": "code",
   "execution_count": 0,
   "metadata": {
    "colab": {
     "base_uri": "https://localhost:8080/",
     "height": 69
    },
    "colab_type": "code",
    "executionInfo": {
     "elapsed": 14200,
     "status": "ok",
     "timestamp": 1585132945475,
     "user": {
      "displayName": "Sai Chaitanya",
      "photoUrl": "https://lh3.googleusercontent.com/a-/AOh14GiokkA-EF_CT2Gr3fZYT6Vfi-QuzaU0qgUO2z0q=s64",
      "userId": "08286913039080874450"
     },
     "user_tz": -330
    },
    "id": "NW_NIhCZRVC0",
    "outputId": "d483726c-e402-4b51-ee14-20eb2681598b"
   },
   "outputs": [
    {
     "name": "stdout",
     "output_type": "stream",
     "text": [
      "Number of Nan values in category_name: 0.4286096121477436%\n",
      "Number of Nan values in brand_name: 42.66418163824054%\n",
      "Number of Nan values in item description: 0.00017337407624125003%\n"
     ]
    }
   ],
   "source": [
    "print(\"Number of Nan values in category_name: {}%\".format((test_data['category_name'].isnull().sum()/test_data.shape[0])*100))\n",
    "print(\"Number of Nan values in brand_name: {}%\".format((test_data['brand_name'].isnull().sum()/test_data.shape[0])*100))\n",
    "print(\"Number of Nan values in item description: {}%\".format((test_data['item_description'].isnull().sum()/test_data.shape[0])*100))"
   ]
  },
  {
   "cell_type": "code",
   "execution_count": null,
   "metadata": {
    "colab_type": "text",
    "id": "LZ-vNVkVSuvm"
   },
   "outputs": [],
   "source": [
    "#Observations\n",
    "#Here the test data is 3X times larger than training data.\n",
    "#As Like as the training data, test data also contains Nan values except in item_description\n",
    "#As we did in training data let's fill the Nan values with prominent values to handle missing values in test data."
   ]
  },
  {
   "cell_type": "code",
   "execution_count": 0,
   "metadata": {
    "colab": {},
    "colab_type": "code",
    "id": "1nTLYfWJzfv9"
   },
   "outputs": [],
   "source": [
    "c1,c2,c3=handle_category(test_data['category_name'])\n",
    "test_data['sub_category1']=c1\n",
    "test_data['sub_category2']=c2\n",
    "test_data['sub_category3']=c3"
   ]
  },
  {
   "cell_type": "code",
   "execution_count": 0,
   "metadata": {
    "colab": {
     "base_uri": "https://localhost:8080/",
     "height": 208
    },
    "colab_type": "code",
    "executionInfo": {
     "elapsed": 19997,
     "status": "ok",
     "timestamp": 1585132951363,
     "user": {
      "displayName": "Sai Chaitanya",
      "photoUrl": "https://lh3.googleusercontent.com/a-/AOh14GiokkA-EF_CT2Gr3fZYT6Vfi-QuzaU0qgUO2z0q=s64",
      "userId": "08286913039080874450"
     },
     "user_tz": -330
    },
    "id": "xLb4FORNTky4",
    "outputId": "c4d65a8e-a68f-4c81-b0c5-e76949bb4e88"
   },
   "outputs": [
    {
     "data": {
      "text/plain": [
       "test_id                  0\n",
       "name                     0\n",
       "item_condition_id        0\n",
       "category_name        14833\n",
       "brand_name               0\n",
       "shipping                 0\n",
       "item_description         0\n",
       "sub_category1            0\n",
       "sub_category2            0\n",
       "sub_category3            0\n",
       "dtype: int64"
      ]
     },
     "execution_count": 18,
     "metadata": {
      "tags": []
     },
     "output_type": "execute_result"
    }
   ],
   "source": [
    "test_data['brand_name'].fillna(value='Not known',inplace=True)\n",
    "test_data['item_description'].fillna(value='No description given',inplace=True)\n",
    "test_data.isnull().sum()"
   ]
  },
  {
   "cell_type": "code",
   "execution_count": 0,
   "metadata": {
    "colab": {
     "base_uri": "https://localhost:8080/",
     "height": 369
    },
    "colab_type": "code",
    "executionInfo": {
     "elapsed": 1507,
     "status": "ok",
     "timestamp": 1584696024377,
     "user": {
      "displayName": "Uma Maheswari Narava",
      "photoUrl": "https://lh3.googleusercontent.com/a-/AOh14GiutRuiajhZJ__rFgVeXqOXNS0DhqkejbUjyEqG=s64",
      "userId": "07991441378936975012"
     },
     "user_tz": -330
    },
    "id": "9HV9kSzHOYHf",
    "outputId": "aab48536-6b41-4295-d30a-efd03ef300cb"
   },
   "outputs": [
    {
     "name": "stdout",
     "output_type": "stream",
     "text": [
      "Number of Unique Category1: 11\n"
     ]
    },
    {
     "data": {
      "image/png": "[encoded data removed]",
      "text/plain": [
       "<Figure size 1080x360 with 1 Axes>"
      ]
     },
     "metadata": {
      "tags": []
     },
     "output_type": "display_data"
    }
   ],
   "source": [
    "count=train_data['sub_category1'].value_counts()\n",
    "print(\"Number of Unique Category1: {}\".format(len(count)))\n",
    "plt.figure(figsize=(15,5))\n",
    "sns.barplot(count.index,count)\n",
    "plt.title(\"Bar Plot Of Number Of Items Per Each Category\")\n",
    "plt.xlabel('Sub_Category1')\n",
    "plt.ylabel('Count')\n",
    "plt.show()"
   ]
  },
  {
   "cell_type": "code",
   "execution_count": null,
   "metadata": {
    "colab_type": "text",
    "id": "JKi8VCna2xV4"
   },
   "outputs": [],
   "source": [
    "#We can see that the top three main categories of the products are women,Beauty and kids.\n",
    "#Nearly 6 lakhs of products have women as main category."
   ]
  },
  {
   "cell_type": "code",
   "execution_count": 0,
   "metadata": {
    "colab": {
     "base_uri": "https://localhost:8080/",
     "height": 369
    },
    "colab_type": "code",
    "executionInfo": {
     "elapsed": 3719,
     "status": "ok",
     "timestamp": 1584696036090,
     "user": {
      "displayName": "Uma Maheswari Narava",
      "photoUrl": "https://lh3.googleusercontent.com/a-/AOh14GiutRuiajhZJ__rFgVeXqOXNS0DhqkejbUjyEqG=s64",
      "userId": "07991441378936975012"
     },
     "user_tz": -330
    },
    "id": "_XItesofOsHQ",
    "outputId": "d67ce59f-7306-4414-ba0b-43878411a4ac"
   },
   "outputs": [
    {
     "name": "stdout",
     "output_type": "stream",
     "text": [
      "Number Of Unique Category2: 114\n"
     ]
    },
    {
     "data": {
      "image/png": "[encoded data removed]",
      "text/plain": [
       "<Figure size 1080x360 with 1 Axes>"
      ]
     },
     "metadata": {
      "tags": []
     },
     "output_type": "display_data"
    }
   ],
   "source": [
    "count=train_data['sub_category2'].value_counts()\n",
    "print(\"Number Of Unique Category2: {}\".format(len(count)))\n",
    "plt.figure(figsize=(15,5))\n",
    "sns.barplot(count.index[:10],count[:10])\n",
    "plt.xlabel('Sub_Category2')\n",
    "plt.ylabel('Count')\n",
    "plt.title(\"Top 10 Sub Categories2 VS Number Of Items Per Each SubCategory\")\n",
    "plt.show()"
   ]
  },
  {
   "cell_type": "code",
   "execution_count": null,
   "metadata": {
    "colab_type": "text",
    "id": "7ojwGw1I3bhg"
   },
   "outputs": [],
   "source": [
    "#Nearly 12 lakhs of products are Athletic Apparel\n",
    "#Athletic Apparel, Makeup and Tops&Blouses are the top three repeating sub categories."
   ]
  },
  {
   "cell_type": "code",
   "execution_count": 0,
   "metadata": {
    "colab": {
     "base_uri": "https://localhost:8080/",
     "height": 369
    },
    "colab_type": "code",
    "executionInfo": {
     "elapsed": 2376,
     "status": "ok",
     "timestamp": 1584696049064,
     "user": {
      "displayName": "Uma Maheswari Narava",
      "photoUrl": "https://lh3.googleusercontent.com/a-/AOh14GiutRuiajhZJ__rFgVeXqOXNS0DhqkejbUjyEqG=s64",
      "userId": "07991441378936975012"
     },
     "user_tz": -330
    },
    "id": "AQcWfVZyOzH0",
    "outputId": "51e3442c-069a-4121-e684-1c314277c0a8"
   },
   "outputs": [
    {
     "name": "stdout",
     "output_type": "stream",
     "text": [
      "Number Of Unique Category3: 869\n"
     ]
    },
    {
     "data": {
      "image/png": "[encoded data removed]",
      "text/plain": [
       "<Figure size 1080x360 with 1 Axes>"
      ]
     },
     "metadata": {
      "tags": []
     },
     "output_type": "display_data"
    }
   ],
   "source": [
    "count=train_data['sub_category3'].value_counts()\n",
    "print(\"Number Of Unique Category3: {}\".format(len(count)))\n",
    "plt.figure(figsize=(15,5))\n",
    "sns.barplot(count.index[:10],count[:10])\n",
    "plt.xlabel('Sub_Category3')\n",
    "plt.ylabel('Count')\n",
    "plt.title(\"Top 10 Sub Categories3 VS Number Of Items Per Each SubCategory\")\n",
    "plt.show()"
   ]
  },
  {
   "cell_type": "code",
   "execution_count": null,
   "metadata": {
    "colab_type": "text",
    "id": "r8FaaL1Y39hh"
   },
   "outputs": [],
   "source": [
    "#Pants,Tights,Leggings ,Face and Other categories are the top three repeating things in subcategory level3.\n",
    "#It is clear that the dataset contains products related to womens the most like cosmotics,\n",
    "#dresses and some related accessories of womens."
   ]
  },
  {
   "cell_type": "code",
   "execution_count": 0,
   "metadata": {
    "colab": {
     "base_uri": "https://localhost:8080/",
     "height": 367
    },
    "colab_type": "code",
    "executionInfo": {
     "elapsed": 1772,
     "status": "ok",
     "timestamp": 1584696124255,
     "user": {
      "displayName": "Uma Maheswari Narava",
      "photoUrl": "https://lh3.googleusercontent.com/a-/AOh14GiutRuiajhZJ__rFgVeXqOXNS0DhqkejbUjyEqG=s64",
      "userId": "07991441378936975012"
     },
     "user_tz": -330
    },
    "id": "FLu83F80Prv2",
    "outputId": "d853d8b2-469e-4173-8022-4a2ab14d1b3a"
   },
   "outputs": [
    {
     "name": "stdout",
     "output_type": "stream",
     "text": [
      "Number of Unique Brands: 4674\n"
     ]
    },
    {
     "data": {
      "image/png": "[encoded data removed]",
      "text/plain": [
       "<Figure size 1080x360 with 1 Axes>"
      ]
     },
     "metadata": {
      "tags": []
     },
     "output_type": "display_data"
    }
   ],
   "source": [
    "unique_brands=train_data['brand_name'].value_counts()\n",
    "print(\"Number of Unique Brands: {}\".format(len(unique_brands)))\n",
    "plt.figure(figsize=(15,5))\n",
    "sns.barplot(unique_brands.index[1:11],unique_brands[1:11])\n",
    "plt.title('Top 10 Brands vs Number of Items Of Each Brand')\n",
    "plt.xlabel('Brand Names')\n",
    "plt.ylabel('Count')\n",
    "plt.plot()\n",
    "plt.show()"
   ]
  },
  {
   "cell_type": "code",
   "execution_count": 0,
   "metadata": {
    "colab": {
     "base_uri": "https://localhost:8080/",
     "height": 242
    },
    "colab_type": "code",
    "executionInfo": {
     "elapsed": 4853,
     "status": "ok",
     "timestamp": 1584696163678,
     "user": {
      "displayName": "Uma Maheswari Narava",
      "photoUrl": "https://lh3.googleusercontent.com/a-/AOh14GiutRuiajhZJ__rFgVeXqOXNS0DhqkejbUjyEqG=s64",
      "userId": "07991441378936975012"
     },
     "user_tz": -330
    },
    "id": "s1t3eK_JP1et",
    "outputId": "2ca0ef69-c39f-49af-afd5-36e595f28403"
   },
   "outputs": [
    {
     "data": {
      "image/png": "[encoded data removed]",
      "text/plain": [
       "<Figure size 720x216 with 1 Axes>"
      ]
     },
     "metadata": {
      "tags": []
     },
     "output_type": "display_data"
    }
   ],
   "source": [
    "count=train_data['item_condition_id'].value_counts()\n",
    "plt.figure(figsize=(10,3))\n",
    "sns.barplot(count.index[:10],count[:10])\n",
    "plt.title('Item_condition_id vs Count')\n",
    "plt.xlabel('Item_condition_id')\n",
    "plt.ylabel('Count')\n",
    "plt.show()"
   ]
  },
  {
   "cell_type": "code",
   "execution_count": null,
   "metadata": {
    "colab_type": "text",
    "id": "1GeMgJsc5PQl"
   },
   "outputs": [],
   "source": [
    "# Item_condition_id with 1 as a id is the most repeating one in the products.\n",
    "# Nearly 60 lakhs of products have condition_id 1.\n",
    "#item_condition_id with 5 as a id is the least repeating one."
   ]
  },
  {
   "cell_type": "code",
   "execution_count": 0,
   "metadata": {
    "colab": {
     "base_uri": "https://localhost:8080/",
     "height": 241
    },
    "colab_type": "code",
    "executionInfo": {
     "elapsed": 4383,
     "status": "ok",
     "timestamp": 1584696218616,
     "user": {
      "displayName": "Uma Maheswari Narava",
      "photoUrl": "https://lh3.googleusercontent.com/a-/AOh14GiutRuiajhZJ__rFgVeXqOXNS0DhqkejbUjyEqG=s64",
      "userId": "07991441378936975012"
     },
     "user_tz": -330
    },
    "id": "RD4pyCp9QHQJ",
    "outputId": "e441a5bc-8514-43db-bbca-45eafa9979df"
   },
   "outputs": [
    {
     "data": {
      "image/png": "[encoded data removed]",
      "text/plain": [
       "<Figure size 504x216 with 2 Axes>"
      ]
     },
     "metadata": {
      "tags": []
     },
     "output_type": "display_data"
    }
   ],
   "source": [
    "count=train_data['shipping'].value_counts()\n",
    "plt.figure(figsize=(7,3))\n",
    "plt.subplot(1,2,1)\n",
    "sns.barplot(count.index,count)\n",
    "plt.xlabel('Shipping')\n",
    "plt.ylabel('Count')\n",
    "plt.title('Shipping vs Count')\n",
    "plt.subplot(1,2,2)\n",
    "labels = ['0','1']\n",
    "sizes = count\n",
    "colors = ['blue','orange']\n",
    "explode = (0.1, 0)  # explode 1st slice\n",
    "# Plot\n",
    "plt.pie(sizes, explode=explode, labels=labels, colors=colors,\n",
    "autopct='%1.1f%%', shadow=True, startangle=140)\n",
    "plt.axis('equal')\n",
    "plt.show()"
   ]
  },
  {
   "cell_type": "code",
   "execution_count": 0,
   "metadata": {
    "colab": {
     "base_uri": "https://localhost:8080/",
     "height": 173
    },
    "colab_type": "code",
    "executionInfo": {
     "elapsed": 1936,
     "status": "ok",
     "timestamp": 1584696257323,
     "user": {
      "displayName": "Uma Maheswari Narava",
      "photoUrl": "https://lh3.googleusercontent.com/a-/AOh14GiutRuiajhZJ__rFgVeXqOXNS0DhqkejbUjyEqG=s64",
      "userId": "07991441378936975012"
     },
     "user_tz": -330
    },
    "id": "HgE-0kVwQc9f",
    "outputId": "5268c81d-4aa5-4ceb-b982-d91f51963ad4"
   },
   "outputs": [
    {
     "data": {
      "text/plain": [
       "count    1.333494e+06\n",
       "mean     2.675457e+01\n",
       "std      3.866316e+01\n",
       "min      3.000000e+00\n",
       "25%      1.000000e+01\n",
       "50%      1.700000e+01\n",
       "75%      2.900000e+01\n",
       "max      2.009000e+03\n",
       "Name: price, dtype: float64"
      ]
     },
     "execution_count": 22,
     "metadata": {
      "tags": []
     },
     "output_type": "execute_result"
    }
   ],
   "source": [
    "train_data['price'].describe()"
   ]
  },
  {
   "cell_type": "code",
   "execution_count": 0,
   "metadata": {
    "colab": {
     "base_uri": "https://localhost:8080/",
     "height": 350
    },
    "colab_type": "code",
    "executionInfo": {
     "elapsed": 4082,
     "status": "ok",
     "timestamp": 1584696292569,
     "user": {
      "displayName": "Uma Maheswari Narava",
      "photoUrl": "https://lh3.googleusercontent.com/a-/AOh14GiutRuiajhZJ__rFgVeXqOXNS0DhqkejbUjyEqG=s64",
      "userId": "07991441378936975012"
     },
     "user_tz": -330
    },
    "id": "EIPToOsmQflP",
    "outputId": "d6e33f93-29b8-46aa-8697-c77683a74aa7"
   },
   "outputs": [
    {
     "data": {
      "image/png": "[encoded data removed]",
      "text/plain": [
       "<Figure size 1080x360 with 2 Axes>"
      ]
     },
     "metadata": {
      "tags": []
     },
     "output_type": "display_data"
    }
   ],
   "source": [
    "plt.figure(figsize=(15,5))\n",
    "plt.subplot(1,2,1)\n",
    "plt.hist(train_data['price'],bins=50,range=[0,200],edgecolor='white')\n",
    "plt.title('Price Distribution')\n",
    "plt.xlabel('Price')\n",
    "plt.ylabel(\"Number Of Products\")\n",
    "plt.subplot(1,2,2)\n",
    "log_price=[np.log(i+1) for i in train_data['price']]\n",
    "plt.hist(np.log(train_data['price']+1),bins=50,edgecolor='white')\n",
    "plt.title(\"log(Price Distribution)\")\n",
    "plt.xlabel(\"log(Price+1)\")\n",
    "plt.ylabel(\"Number Of Products\")\n",
    "plt.show()"
   ]
  },
  {
   "cell_type": "code",
   "execution_count": null,
   "metadata": {
    "colab_type": "text",
    "id": "ZCvx85ja6KkB"
   },
   "outputs": [],
   "source": [
    "#In the left graph we can see a tailedness in the curve whose values are deprecating towards 0.\n",
    "#Hence we take log(price+1) instead of price."
   ]
  },
  {
   "cell_type": "code",
   "execution_count": 0,
   "metadata": {
    "colab": {
     "base_uri": "https://localhost:8080/",
     "height": 295
    },
    "colab_type": "code",
    "executionInfo": {
     "elapsed": 5323,
     "status": "ok",
     "timestamp": 1584696338586,
     "user": {
      "displayName": "Uma Maheswari Narava",
      "photoUrl": "https://lh3.googleusercontent.com/a-/AOh14GiutRuiajhZJ__rFgVeXqOXNS0DhqkejbUjyEqG=s64",
      "userId": "07991441378936975012"
     },
     "user_tz": -330
    },
    "id": "yCLg_9YVQoX7",
    "outputId": "113e71ff-5871-4f3f-adb9-a830bb6aaf68"
   },
   "outputs": [
    {
     "data": {
      "image/png": "[encoded data removed]",
      "text/plain": [
       "<Figure size 432x288 with 1 Axes>"
      ]
     },
     "metadata": {
      "tags": []
     },
     "output_type": "display_data"
    }
   ],
   "source": [
    "one_shipping=np.log(train_data.loc[train_data['shipping']==1,'price']+1)\n",
    "zero_shipping=np.log(train_data.loc[train_data['shipping']==0,'price']+1)\n",
    "sns.distplot(one_shipping,label='one shipping')\n",
    "sns.distplot(zero_shipping,label='zero shipping')\n",
    "plt.title('PDF plot of shipping products price VS none shipping products price')\n",
    "plt.xlabel(\"log(price+1)\")\n",
    "plt.grid()\n",
    "plt.legend()\n",
    "plt.show()"
   ]
  },
  {
   "cell_type": "code",
   "execution_count": 0,
   "metadata": {
    "colab": {
     "base_uri": "https://localhost:8080/",
     "height": 282
    },
    "colab_type": "code",
    "executionInfo": {
     "elapsed": 7479,
     "status": "ok",
     "timestamp": 1584696729193,
     "user": {
      "displayName": "Uma Maheswari Narava",
      "photoUrl": "https://lh3.googleusercontent.com/a-/AOh14GiutRuiajhZJ__rFgVeXqOXNS0DhqkejbUjyEqG=s64",
      "userId": "07991441378936975012"
     },
     "user_tz": -330
    },
    "id": "L9LXNSfrSHQu",
    "outputId": "b9072b48-dce0-4858-f4f2-cabf24b8269b"
   },
   "outputs": [
    {
     "data": {
      "image/png": "[encoded data removed]",
      "text/plain": [
       "<Figure size 432x288 with 1 Axes>"
      ]
     },
     "metadata": {
      "tags": []
     },
     "output_type": "display_data"
    }
   ],
   "source": [
    "train_data['target']=np.log(train_data['price']+1)\n",
    "sns.violinplot(x=\"shipping\", y=\"target\", data=train_data)\n",
    "plt.show()"
   ]
  },
  {
   "cell_type": "code",
   "execution_count": 0,
   "metadata": {
    "colab": {
     "base_uri": "https://localhost:8080/",
     "height": 295
    },
    "colab_type": "code",
    "executionInfo": {
     "elapsed": 3520,
     "status": "ok",
     "timestamp": 1584696442522,
     "user": {
      "displayName": "Uma Maheswari Narava",
      "photoUrl": "https://lh3.googleusercontent.com/a-/AOh14GiutRuiajhZJ__rFgVeXqOXNS0DhqkejbUjyEqG=s64",
      "userId": "07991441378936975012"
     },
     "user_tz": -330
    },
    "id": "1MO3iHxFQyaA",
    "outputId": "6a5cc323-3c06-43df-864e-5d43839d12f0"
   },
   "outputs": [
    {
     "data": {
      "image/png": "[encoded data removed]",
      "text/plain": [
       "<Figure size 432x288 with 1 Axes>"
      ]
     },
     "metadata": {
      "tags": []
     },
     "output_type": "display_data"
    }
   ],
   "source": [
    "unknown_brand=np.log(train_data.loc[train_data['brand_name']!='Not known','price']+1)\n",
    "brand=np.log(train_data.loc[train_data['brand_name']=='Not known','price']+1)\n",
    "sns.distplot(unknown_brand,label='unknown brand')\n",
    "sns.distplot(brand,label='branded')\n",
    "plt.title('PDF Plot Of Branded Product Price And Unknown Brand Product Price ')\n",
    "plt.xlabel('log(price+1)')\n",
    "plt.grid()\n",
    "plt.legend()\n",
    "plt.show()"
   ]
  },
  {
   "cell_type": "code",
   "execution_count": 0,
   "metadata": {
    "colab": {
     "base_uri": "https://localhost:8080/",
     "height": 351
    },
    "colab_type": "code",
    "executionInfo": {
     "elapsed": 3865,
     "status": "ok",
     "timestamp": 1584696500951,
     "user": {
      "displayName": "Uma Maheswari Narava",
      "photoUrl": "https://lh3.googleusercontent.com/a-/AOh14GiutRuiajhZJ__rFgVeXqOXNS0DhqkejbUjyEqG=s64",
      "userId": "07991441378936975012"
     },
     "user_tz": -330
    },
    "id": "7FAbF4KtQ9eT",
    "outputId": "be6304f4-dea3-47b9-d263-f87508791b02"
   },
   "outputs": [
    {
     "data": {
      "image/png": "[encoded data removed]",
      "text/plain": [
       "<Figure size 1080x360 with 1 Axes>"
      ]
     },
     "metadata": {
      "tags": []
     },
     "output_type": "display_data"
    }
   ],
   "source": [
    "plt.figure(figsize=(15,5))\n",
    "sns.boxplot(x=train_data['item_condition_id'],y=np.log(train_data['price']+1))\n",
    "plt.title('Box Plot of item condition id VS Product price')\n",
    "plt.ylabel('log(price+1)')\n",
    "plt.show()"
   ]
  },
  {
   "cell_type": "code",
   "execution_count": 0,
   "metadata": {
    "colab": {
     "base_uri": "https://localhost:8080/",
     "height": 283
    },
    "colab_type": "code",
    "executionInfo": {
     "elapsed": 8828,
     "status": "ok",
     "timestamp": 1584697046963,
     "user": {
      "displayName": "Uma Maheswari Narava",
      "photoUrl": "https://lh3.googleusercontent.com/a-/AOh14GiutRuiajhZJ__rFgVeXqOXNS0DhqkejbUjyEqG=s64",
      "userId": "07991441378936975012"
     },
     "user_tz": -330
    },
    "id": "MDYFWvEmSZQg",
    "outputId": "23f880a3-911b-4715-9d6c-2e15471084c5"
   },
   "outputs": [
    {
     "data": {
      "image/png": "[encoded data removed]",
      "text/plain": [
       "<Figure size 432x288 with 1 Axes>"
      ]
     },
     "metadata": {
      "tags": []
     },
     "output_type": "display_data"
    }
   ],
   "source": [
    "sns.violinplot(x='item_condition_id',y='target',data=train_data)\n",
    "plt.show()"
   ]
  },
  {
   "cell_type": "code",
   "execution_count": 0,
   "metadata": {
    "colab": {
     "base_uri": "https://localhost:8080/",
     "height": 279
    },
    "colab_type": "code",
    "executionInfo": {
     "elapsed": 3222,
     "status": "ok",
     "timestamp": 1584696529851,
     "user": {
      "displayName": "Uma Maheswari Narava",
      "photoUrl": "https://lh3.googleusercontent.com/a-/AOh14GiutRuiajhZJ__rFgVeXqOXNS0DhqkejbUjyEqG=s64",
      "userId": "07991441378936975012"
     },
     "user_tz": -330
    },
    "id": "VMVMlTCKRa5j",
    "outputId": "f062b769-40bd-4c1b-a86e-49ecef21d094"
   },
   "outputs": [
    {
     "data": {
      "image/png": "[encoded data removed]",
      "text/plain": [
       "<Figure size 432x288 with 1 Axes>"
      ]
     },
     "metadata": {
      "tags": []
     },
     "output_type": "display_data"
    }
   ],
   "source": [
    "id1=np.log(train_data.loc[train_data['item_condition_id']==1,'price']+1)\n",
    "id2=np.log(train_data.loc[train_data['item_condition_id']==2,'price']+1)\n",
    "id3=np.log(train_data.loc[train_data['item_condition_id']==3,'price']+1)\n",
    "id4=np.log(train_data.loc[train_data['item_condition_id']==4,'price']+1)\n",
    "id5=np.log(train_data.loc[train_data['item_condition_id']==5,'price']+1)\n",
    "sns.distplot(id1,hist=False,label='item_condition_id=1')\n",
    "sns.distplot(id2,hist=False,label='item_condition_id=2')\n",
    "sns.distplot(id3,hist=False,label='item_condition_id=3')\n",
    "sns.distplot(id4,hist=False,label='item_condition_id=4')\n",
    "sns.distplot(id5,hist=False,label='item_condition_id=5')\n",
    "plt.show()"
   ]
  },
  {
   "cell_type": "code",
   "execution_count": 0,
   "metadata": {
    "colab": {
     "base_uri": "https://localhost:8080/",
     "height": 621
    },
    "colab_type": "code",
    "executionInfo": {
     "elapsed": 3404,
     "status": "ok",
     "timestamp": 1584696574811,
     "user": {
      "displayName": "Uma Maheswari Narava",
      "photoUrl": "https://lh3.googleusercontent.com/a-/AOh14GiutRuiajhZJ__rFgVeXqOXNS0DhqkejbUjyEqG=s64",
      "userId": "07991441378936975012"
     },
     "user_tz": -330
    },
    "id": "m-CYbAABRijN",
    "outputId": "6272ac5d-84c3-4dc3-c3fc-042086f78671"
   },
   "outputs": [
    {
     "data": {
      "image/png": "[encoded data removed]",
      "text/plain": [
       "<Figure size 504x720 with 1 Axes>"
      ]
     },
     "metadata": {
      "tags": []
     },
     "output_type": "display_data"
    }
   ],
   "source": [
    "plt.figure(figsize=(7,10))\n",
    "sns.boxplot(y=train_data['sub_category1'],x=np.log(train_data['price']+1))\n",
    "plt.title('Box Plot of Sub_Category1 VS Product Price')\n",
    "plt.grid()\n",
    "plt.show()"
   ]
  },
  {
   "cell_type": "code",
   "execution_count": 0,
   "metadata": {
    "colab": {
     "base_uri": "https://localhost:8080/",
     "height": 241
    },
    "colab_type": "code",
    "executionInfo": {
     "elapsed": 4268,
     "status": "ok",
     "timestamp": 1584698206327,
     "user": {
      "displayName": "Uma Maheswari Narava",
      "photoUrl": "https://lh3.googleusercontent.com/a-/AOh14GiutRuiajhZJ__rFgVeXqOXNS0DhqkejbUjyEqG=s64",
      "userId": "07991441378936975012"
     },
     "user_tz": -330
    },
    "id": "bijtTnaUXcJU",
    "outputId": "b9c54d6e-8e30-4363-cee1-0054a143b588"
   },
   "outputs": [
    {
     "data": {
      "image/png": "[encoded data removed]",
      "text/plain": [
       "<Figure size 1080x216 with 1 Axes>"
      ]
     },
     "metadata": {
      "tags": []
     },
     "output_type": "display_data"
    }
   ],
   "source": [
    "count=train_data['name'].value_counts()\n",
    "plt.figure(figsize=(15,3))\n",
    "sns.barplot(count.index[:10],count[:10])\n",
    "plt.title('name vs Count')\n",
    "plt.xlabel('name')\n",
    "plt.ylabel('Count')\n",
    "plt.show()"
   ]
  },
  {
   "cell_type": "code",
   "execution_count": 0,
   "metadata": {
    "colab": {},
    "colab_type": "code",
    "id": "B8S2wKCr7Wh0"
   },
   "outputs": [],
   "source": [
    "stopwords=set(stopwords.words('english'))"
   ]
  },
  {
   "cell_type": "code",
   "execution_count": 0,
   "metadata": {
    "colab": {},
    "colab_type": "code",
    "id": "VXyg0ij274v6"
   },
   "outputs": [],
   "source": [
    "def stopwords_count(data):\n",
    "  \"\"\"this function counts the number of stopwords in each of the item_description\"\"\"\n",
    "  count_stopwords=[]\n",
    "  for i in tqdm(data['item_description']):\n",
    "    count=0\n",
    "    for j in i.split(' '):\n",
    "      if j in stopwords: count+=1  #finding if the word is present in the nltk stopwords or not\n",
    "    count_stopwords.append(count)\n",
    "  return count_stopwords"
   ]
  },
  {
   "cell_type": "code",
   "execution_count": 0,
   "metadata": {
    "colab": {
     "base_uri": "https://localhost:8080/",
     "height": 69
    },
    "colab_type": "code",
    "executionInfo": {
     "elapsed": 47222,
     "status": "ok",
     "timestamp": 1585132978820,
     "user": {
      "displayName": "Sai Chaitanya",
      "photoUrl": "https://lh3.googleusercontent.com/a-/AOh14GiokkA-EF_CT2Gr3fZYT6Vfi-QuzaU0qgUO2z0q=s64",
      "userId": "08286913039080874450"
     },
     "user_tz": -330
    },
    "id": "JNneYVtE8YMr",
    "outputId": "90fcc17a-457b-4476-a5d5-91142f469c7e"
   },
   "outputs": [
    {
     "name": "stderr",
     "output_type": "stream",
     "text": [
      "100%|██████████| 1333494/1333494 [00:05<00:00, 262248.83it/s]\n",
      "100%|██████████| 148167/148167 [00:00<00:00, 260864.48it/s]\n",
      "100%|██████████| 3460725/3460725 [00:12<00:00, 280879.52it/s]\n"
     ]
    }
   ],
   "source": [
    "train_data['count_stopwords']=stopwords_count(train_data)\n",
    "cv_data['count_stopwords']=stopwords_count(cv_data)\n",
    "test_data['count_stopwords']=stopwords_count(test_data)"
   ]
  },
  {
   "cell_type": "code",
   "execution_count": 0,
   "metadata": {
    "colab": {
     "base_uri": "https://localhost:8080/",
     "height": 173
    },
    "colab_type": "code",
    "executionInfo": {
     "elapsed": 44890,
     "status": "ok",
     "timestamp": 1585132978823,
     "user": {
      "displayName": "Sai Chaitanya",
      "photoUrl": "https://lh3.googleusercontent.com/a-/AOh14GiokkA-EF_CT2Gr3fZYT6Vfi-QuzaU0qgUO2z0q=s64",
      "userId": "08286913039080874450"
     },
     "user_tz": -330
    },
    "id": "AFbgZPhHUSAL",
    "outputId": "838cfe39-80a5-4b0a-f292-be1ab4cd91f4"
   },
   "outputs": [
    {
     "data": {
      "text/plain": [
       "count    1.333494e+06\n",
       "mean     5.982603e+00\n",
       "std      9.063958e+00\n",
       "min      0.000000e+00\n",
       "25%      0.000000e+00\n",
       "50%      3.000000e+00\n",
       "75%      8.000000e+00\n",
       "max      1.180000e+02\n",
       "Name: count_stopwords, dtype: float64"
      ]
     },
     "execution_count": 25,
     "metadata": {
      "tags": []
     },
     "output_type": "execute_result"
    }
   ],
   "source": [
    "train_data['count_stopwords'].describe()"
   ]
  },
  {
   "cell_type": "markdown",
   "metadata": {
    "colab_type": "text",
    "id": "wj5ywvxMHxzu"
   },
   "source": [
    "Text Preprocessing:"
   ]
  },
  {
   "cell_type": "code",
   "execution_count": 0,
   "metadata": {
    "colab": {},
    "colab_type": "code",
    "id": "7xnAvHYOXOMV"
   },
   "outputs": [],
   "source": [
    "# https://stackoverflow.com/a/47091490/4084039\n",
    "def decontracted(phrase):\n",
    "    \"\"\"this function removies shorthands for the textual data...\"\"\"\n",
    "    phrase = re.sub(r\"won't\", \"will not\", phrase)\n",
    "    phrase = re.sub(r\"can\\'t\", \"can not\", phrase)\n",
    "    phrase = re.sub(r\"n\\'t\", \" not\", phrase)\n",
    "    phrase = re.sub(r\"\\'re\", \" are\", phrase)\n",
    "    phrase = re.sub(r\"\\'s\", \" is\", phrase)\n",
    "    phrase = re.sub(r\"\\'d\", \" would\", phrase)\n",
    "    phrase = re.sub(r\"\\'ll\", \" will\", phrase)\n",
    "    phrase = re.sub(r\"\\'t\", \" not\", phrase)\n",
    "    phrase = re.sub(r\"\\'ve\", \" have\", phrase)\n",
    "    phrase = re.sub(r\"\\'m\", \" am\", phrase)\n",
    "    return phrase"
   ]
  },
  {
   "cell_type": "code",
   "execution_count": 0,
   "metadata": {
    "colab": {},
    "colab_type": "code",
    "id": "LP6c3VDgYTOS"
   },
   "outputs": [],
   "source": [
    "# https://gist.github.com/sebleier/554280\n",
    "def text_preprocessing(data):\n",
    "  \"\"\"this function performs preprocessing the item_description \"\"\"\n",
    "  preprocessed_total = []\n",
    "  for sentance in tqdm(data['item_description'].values):\n",
    "    sent = decontracted(sentance)\n",
    "    sent = sent.replace('\\\\r', ' ')\n",
    "    sent = sent.replace('\\\\\"', ' ')\n",
    "    sent = sent.replace('\\\\n', ' ')\n",
    "    sent = re.sub('[^A-Za-z0-9]+', ' ', sent)\n",
    "    sent = ' '.join(e for e in sent.split() if e.lower() not in stopwords)  #removing stop words\n",
    "    preprocessed_total.append(sent.lower().strip())\n",
    "  return preprocessed_total"
   ]
  },
  {
   "cell_type": "code",
   "execution_count": 0,
   "metadata": {
    "colab": {
     "base_uri": "https://localhost:8080/",
     "height": 69
    },
    "colab_type": "code",
    "executionInfo": {
     "elapsed": 144506,
     "status": "ok",
     "timestamp": 1585133092859,
     "user": {
      "displayName": "Sai Chaitanya",
      "photoUrl": "https://lh3.googleusercontent.com/a-/AOh14GiokkA-EF_CT2Gr3fZYT6Vfi-QuzaU0qgUO2z0q=s64",
      "userId": "08286913039080874450"
     },
     "user_tz": -330
    },
    "id": "e4bO3_T0Zu2q",
    "outputId": "ee484709-fb92-4d23-c419-90ded7e07d08"
   },
   "outputs": [
    {
     "name": "stderr",
     "output_type": "stream",
     "text": [
      "100%|██████████| 1333494/1333494 [00:30<00:00, 43685.60it/s]\n",
      "100%|██████████| 148167/148167 [00:03<00:00, 43913.98it/s]\n",
      "100%|██████████| 3460725/3460725 [01:18<00:00, 44182.04it/s]\n"
     ]
    }
   ],
   "source": [
    "train_data['item_description']=text_preprocessing(train_data)\n",
    "cv_data['item_description']=text_preprocessing(cv_data)\n",
    "test_data['item_description']=text_preprocessing(test_data)"
   ]
  },
  {
   "cell_type": "code",
   "execution_count": 0,
   "metadata": {
    "colab": {
     "base_uri": "https://localhost:8080/",
     "height": 35
    },
    "colab_type": "code",
    "executionInfo": {
     "elapsed": 11961,
     "status": "ok",
     "timestamp": 1585053437892,
     "user": {
      "displayName": "Sai Chaitanya",
      "photoUrl": "https://lh3.googleusercontent.com/a-/AOh14GiokkA-EF_CT2Gr3fZYT6Vfi-QuzaU0qgUO2z0q=s64",
      "userId": "08286913039080874450"
     },
     "user_tz": -330
    },
    "id": "pSb1VJoXU3b1",
    "outputId": "18116f0e-12ea-4b2e-c173-2a4283bcf6cc"
   },
   "outputs": [
    {
     "name": "stderr",
     "output_type": "stream",
     "text": [
      "100%|██████████| 1333494/1333494 [00:11<00:00, 117732.34it/s]\n"
     ]
    }
   ],
   "source": [
    "word_count={}\n",
    "for sentence in tqdm(train_data['item_description']):\n",
    "    for word in sentence.split(' '):\n",
    "        if len(word)>=3:  #taking words which are of length>=3\n",
    "            if word not in word_count:\n",
    "                word_count[word]=1  #if word not present in dict assigning it to 1\n",
    "            else:\n",
    "                word_count[word]+=1 #else incrementing it by 1"
   ]
  },
  {
   "cell_type": "code",
   "execution_count": 0,
   "metadata": {
    "colab": {},
    "colab_type": "code",
    "id": "KjiC2gibU5ue"
   },
   "outputs": [],
   "source": [
    "n_print=25\n",
    "word_counter = collections.Counter(word_count)\n",
    "words=[]\n",
    "counter=[]\n",
    "for word, count in word_counter.most_common(n_print):\n",
    "    words.append(word)\n",
    "    counter.append(count)"
   ]
  },
  {
   "cell_type": "code",
   "execution_count": 0,
   "metadata": {
    "colab": {
     "base_uri": "https://localhost:8080/",
     "height": 458
    },
    "colab_type": "code",
    "executionInfo": {
     "elapsed": 1822,
     "status": "ok",
     "timestamp": 1584697576012,
     "user": {
      "displayName": "Uma Maheswari Narava",
      "photoUrl": "https://lh3.googleusercontent.com/a-/AOh14GiutRuiajhZJ__rFgVeXqOXNS0DhqkejbUjyEqG=s64",
      "userId": "07991441378936975012"
     },
     "user_tz": -330
    },
    "id": "B06PriGoVFsb",
    "outputId": "5e226b76-a445-4f4f-fa4d-0bcb9ae607ff"
   },
   "outputs": [
    {
     "data": {
      "image/png": "[encoded data removed]",
      "text/plain": [
       "<Figure size 720x504 with 1 Axes>"
      ]
     },
     "metadata": {
      "tags": []
     },
     "output_type": "display_data"
    }
   ],
   "source": [
    "plt.figure(figsize=(10,7))\n",
    "sns.barplot(counter,words)\n",
    "plt.title(\"25 Most Frequent Words in Item-Description\")\n",
    "plt.xlabel('Frequency')\n",
    "plt.ylabel('Words')\n",
    "plt.show()"
   ]
  },
  {
   "cell_type": "code",
   "execution_count": 0,
   "metadata": {
    "colab": {},
    "colab_type": "code",
    "id": "F5KxSOUVTsay"
   },
   "outputs": [],
   "source": [
    "def description_length(data):\n",
    "  \"\"\"this function finds the length of the description basing on spaces in the statement\"\"\"\n",
    "  description_length=[]\n",
    "  for i in data['item_description']:\n",
    "    description_length.append(len(i.split(' '))) #splitting statement using spaces and finding length of it\n",
    "  return description_length"
   ]
  },
  {
   "cell_type": "code",
   "execution_count": 0,
   "metadata": {
    "colab": {
     "base_uri": "https://localhost:8080/",
     "height": 124
    },
    "colab_type": "code",
    "executionInfo": {
     "elapsed": 28516,
     "status": "ok",
     "timestamp": 1585132959976,
     "user": {
      "displayName": "Sai Chaitanya",
      "photoUrl": "https://lh3.googleusercontent.com/a-/AOh14GiokkA-EF_CT2Gr3fZYT6Vfi-QuzaU0qgUO2z0q=s64",
      "userId": "08286913039080874450"
     },
     "user_tz": -330
    },
    "id": "W2V-h1YyWFPR",
    "outputId": "10ca529d-a9cc-4ca4-813e-49f68cae6a8d"
   },
   "outputs": [
    {
     "name": "stdout",
     "output_type": "stream",
     "text": [
      "processing item_description in train_data...\n",
      "Two Size 24 cowgirl tuff new jeans 7\n",
      "====================================================================================================\n",
      "processing item_description in test_data...\n",
      "Abercrombie boys khaki cargo shorts in a size 8. These shorts have an inside drawstring waist and are somewhat heavy. 20\n"
     ]
    }
   ],
   "source": [
    "print(\"processing item_description in train_data...\")\n",
    "train_data['description_length']=description_length(train_data)\n",
    "cv_data['description_length']=description_length(cv_data)\n",
    "print(train_data.iloc[100]['item_description'],train_data.iloc[100]['description_length'])\n",
    "print(\"=\"*100)\n",
    "print(\"processing item_description in test_data...\")\n",
    "test_data['description_length']=description_length(test_data)\n",
    "print(test_data.iloc[100]['item_description'],test_data.iloc[100]['description_length'])"
   ]
  },
  {
   "cell_type": "code",
   "execution_count": 0,
   "metadata": {
    "colab": {
     "base_uri": "https://localhost:8080/",
     "height": 173
    },
    "colab_type": "code",
    "executionInfo": {
     "elapsed": 28464,
     "status": "ok",
     "timestamp": 1585132959981,
     "user": {
      "displayName": "Sai Chaitanya",
      "photoUrl": "https://lh3.googleusercontent.com/a-/AOh14GiokkA-EF_CT2Gr3fZYT6Vfi-QuzaU0qgUO2z0q=s64",
      "userId": "08286913039080874450"
     },
     "user_tz": -330
    },
    "id": "GfbTIrxFT7eT",
    "outputId": "99203f33-d018-44fe-d4b3-b7115dc97351"
   },
   "outputs": [
    {
     "data": {
      "text/plain": [
       "count    1.333494e+06\n",
       "mean     2.570475e+01\n",
       "std      3.041483e+01\n",
       "min      1.000000e+00\n",
       "25%      7.000000e+00\n",
       "50%      1.500000e+01\n",
       "75%      3.100000e+01\n",
       "max      2.450000e+02\n",
       "Name: description_length, dtype: float64"
      ]
     },
     "execution_count": 21,
     "metadata": {
      "tags": []
     },
     "output_type": "execute_result"
    }
   ],
   "source": [
    "train_data['description_length'].describe()"
   ]
  },
  {
   "cell_type": "code",
   "execution_count": 0,
   "metadata": {
    "colab": {},
    "colab_type": "code",
    "id": "xIXOH4ZDxskv"
   },
   "outputs": [],
   "source": [
    "def branded(data):\n",
    "   \"\"\"this function assigns a value 1 if a product has brand_name else 0\"\"\"\n",
    "   is_branded=[]\n",
    "   for i in data['brand_name']:\n",
    "      if i=='Not known': is_branded.append(0) #if it is a Nan value i.e.. unknown brand make it as 0.\n",
    "      else: is_branded.append(1)\n",
    "   return is_branded\n",
    "train_data['is_branded']=branded(train_data)\n",
    "cv_data['is_branded']=branded(cv_data)\n",
    "test_data['is_branded']=branded(test_data)"
   ]
  },
  {
   "cell_type": "code",
   "execution_count": 0,
   "metadata": {
    "colab": {},
    "colab_type": "code",
    "id": "oTLSisE8faLJ"
   },
   "outputs": [],
   "source": [
    "def sentiment_analysis(data):\n",
    "   \"\"\"this function performs sentiment score analysis of each datapoint\"\"\"\n",
    "   sentiment_score = SentimentIntensityAnalyzer()\n",
    "   sentiment = []\n",
    "   for sentence in tqdm(data):\n",
    "       sentiment.append(sentiment_score.polarity_scores(sentence))\n",
    "   return sentiment"
   ]
  },
  {
   "cell_type": "code",
   "execution_count": 0,
   "metadata": {
    "colab": {
     "base_uri": "https://localhost:8080/",
     "height": 69
    },
    "colab_type": "code",
    "executionInfo": {
     "elapsed": 1144783,
     "status": "ok",
     "timestamp": 1585134106614,
     "user": {
      "displayName": "Sai Chaitanya",
      "photoUrl": "https://lh3.googleusercontent.com/a-/AOh14GiokkA-EF_CT2Gr3fZYT6Vfi-QuzaU0qgUO2z0q=s64",
      "userId": "08286913039080874450"
     },
     "user_tz": -330
    },
    "id": "tnUwH9Bif4vJ",
    "outputId": "421a923b-c5c3-43f3-a4b6-66e156fe2496"
   },
   "outputs": [
    {
     "name": "stderr",
     "output_type": "stream",
     "text": [
      "100%|██████████| 1333494/1333494 [04:15<00:00, 5214.24it/s]\n",
      "100%|██████████| 148167/148167 [00:28<00:00, 5237.28it/s]\n",
      "100%|██████████| 3460725/3460725 [10:54<00:00, 5291.50it/s]\n"
     ]
    }
   ],
   "source": [
    "training_sentiment_score=sentiment_analysis(train_data['item_description']) \n",
    "cv_sentiment_score=sentiment_analysis(cv_data['item_description'])\n",
    "testing_sentiment_score=sentiment_analysis(test_data['item_description'])"
   ]
  },
  {
   "cell_type": "code",
   "execution_count": 0,
   "metadata": {
    "colab": {},
    "colab_type": "code",
    "id": "7O9PRAkegT3Q"
   },
   "outputs": [],
   "source": [
    "def splitting_sentiment(sentiment_score):\n",
    "  \"\"\"this function splits sentiment analysis score into four further features ie positive,negative,compound and neutral\"\"\"\n",
    "  positive=[]\n",
    "  negative=[]\n",
    "  neutral=[]\n",
    "  compound=[]\n",
    "  for i in sentiment_score:\n",
    "    positive.append(i['pos'])\n",
    "    negative.append(i['neg'])\n",
    "    neutral.append(i['neu'])\n",
    "    compound.append(i['compound'])\n",
    "  return positive,negative,neutral,compound"
   ]
  },
  {
   "cell_type": "code",
   "execution_count": 0,
   "metadata": {
    "colab": {
     "base_uri": "https://localhost:8080/",
     "height": 69
    },
    "colab_type": "code",
    "executionInfo": {
     "elapsed": 1140732,
     "status": "ok",
     "timestamp": 1585134107514,
     "user": {
      "displayName": "Sai Chaitanya",
      "photoUrl": "https://lh3.googleusercontent.com/a-/AOh14GiokkA-EF_CT2Gr3fZYT6Vfi-QuzaU0qgUO2z0q=s64",
      "userId": "08286913039080874450"
     },
     "user_tz": -330
    },
    "id": "7qjidZynhiU0",
    "outputId": "58a20f20-ef5d-4e72-98a6-9e535932b217"
   },
   "outputs": [
    {
     "name": "stdout",
     "output_type": "stream",
     "text": [
      "Training Data Sentiment Analysis: \n",
      "american flag bodysuit two buttons bottom size large fits like medium brand tobi\n",
      "{'neg': 0.0, 'neu': 0.828, 'pos': 0.172, 'compound': 0.3612}\n"
     ]
    }
   ],
   "source": [
    "print(\"Training Data Sentiment Analysis: \")\n",
    "pos,neg,neu,comp=splitting_sentiment(training_sentiment_score)\n",
    "train_data['positive']=pos\n",
    "train_data['negative']=neg\n",
    "train_data['neutral']=neu\n",
    "train_data['compound']=comp\n",
    "print(train_data.iloc[50]['item_description'])\n",
    "print(training_sentiment_score[50])"
   ]
  },
  {
   "cell_type": "code",
   "execution_count": 0,
   "metadata": {
    "colab": {
     "base_uri": "https://localhost:8080/",
     "height": 69
    },
    "colab_type": "code",
    "executionInfo": {
     "elapsed": 1138607,
     "status": "ok",
     "timestamp": 1585134107516,
     "user": {
      "displayName": "Sai Chaitanya",
      "photoUrl": "https://lh3.googleusercontent.com/a-/AOh14GiokkA-EF_CT2Gr3fZYT6Vfi-QuzaU0qgUO2z0q=s64",
      "userId": "08286913039080874450"
     },
     "user_tz": -330
    },
    "id": "HlKBk53rFr5_",
    "outputId": "9a3e5883-8c77-4942-bc69-5da4657810a4"
   },
   "outputs": [
    {
     "name": "stdout",
     "output_type": "stream",
     "text": [
      "CV Data Sentiment Analysis: \n",
      "brand new\n",
      "{'neg': 0.0, 'neu': 1.0, 'pos': 0.0, 'compound': 0.0}\n"
     ]
    }
   ],
   "source": [
    "print(\"CV Data Sentiment Analysis: \")\n",
    "pos,neg,neu,comp=splitting_sentiment(cv_sentiment_score)\n",
    "cv_data['positive']=pos\n",
    "cv_data['negative']=neg\n",
    "cv_data['neutral']=neu\n",
    "cv_data['compound']=comp\n",
    "print(cv_data.iloc[50]['item_description'])\n",
    "print(cv_sentiment_score[50])"
   ]
  },
  {
   "cell_type": "code",
   "execution_count": 0,
   "metadata": {
    "colab": {
     "base_uri": "https://localhost:8080/",
     "height": 69
    },
    "colab_type": "code",
    "executionInfo": {
     "elapsed": 1139439,
     "status": "ok",
     "timestamp": 1585134110566,
     "user": {
      "displayName": "Sai Chaitanya",
      "photoUrl": "https://lh3.googleusercontent.com/a-/AOh14GiokkA-EF_CT2Gr3fZYT6Vfi-QuzaU0qgUO2z0q=s64",
      "userId": "08286913039080874450"
     },
     "user_tz": -330
    },
    "id": "-SB_js6TiyDo",
    "outputId": "c84aada4-4d9f-407d-85e0-1e71d1e59cda"
   },
   "outputs": [
    {
     "name": "stdout",
     "output_type": "stream",
     "text": [
      "Testing Data Sentiment Analysis: \n",
      "pok mon card\n",
      "{'neg': 0.0, 'neu': 1.0, 'pos': 0.0, 'compound': 0.0}\n"
     ]
    }
   ],
   "source": [
    "print(\"Testing Data Sentiment Analysis: \")\n",
    "pos,neg,neu,comp=splitting_sentiment(testing_sentiment_score)\n",
    "test_data['positive']=pos\n",
    "test_data['negative']=neg\n",
    "test_data['neutral']=neu\n",
    "test_data['compound']=comp\n",
    "print(test_data.iloc[50]['item_description'])\n",
    "print(testing_sentiment_score[50])"
   ]
  },
  {
   "cell_type": "code",
   "execution_count": 0,
   "metadata": {
    "colab": {},
    "colab_type": "code",
    "id": "w90cI79njV5b"
   },
   "outputs": [],
   "source": [
    "train_data['target']=np.log(np.array(train_data['price'].values)+1)\n",
    "cv_data['target']=np.log(np.array(cv_data['price'].values)+1)\n",
    "#train_data.drop(['train_id','category_name'],axis=1,inplace=True)\n",
    "#cv_data.drop(['train_id','category_name'],axis=1,inplace=True)"
   ]
  },
  {
   "cell_type": "code",
   "execution_count": 0,
   "metadata": {
    "colab": {},
    "colab_type": "code",
    "id": "Kqys95lhj2u0"
   },
   "outputs": [],
   "source": [
    "#test_data=test_data.drop(['test_id','category_name'],axis=1)\n",
    "#test_data.head(1)"
   ]
  },
  {
   "cell_type": "code",
   "execution_count": 0,
   "metadata": {
    "colab": {
     "base_uri": "https://localhost:8080/",
     "height": 523
    },
    "colab_type": "code",
    "executionInfo": {
     "elapsed": 1205248,
     "status": "ok",
     "timestamp": 1585134182158,
     "user": {
      "displayName": "Sai Chaitanya",
      "photoUrl": "https://lh3.googleusercontent.com/a-/AOh14GiokkA-EF_CT2Gr3fZYT6Vfi-QuzaU0qgUO2z0q=s64",
      "userId": "08286913039080874450"
     },
     "user_tz": -330
    },
    "id": "y5ZBTwKFl0gq",
    "outputId": "f26fe09e-1e31-40d8-ab86-cd4de6af332c"
   },
   "outputs": [
    {
     "name": "stdout",
     "output_type": "stream",
     "text": [
      "After Vectorization of sub category1 feature: \n",
      "(1333494, 12)\n",
      "(148167, 12)\n",
      "(3460725, 12)\n",
      "Some Features are: \n",
      "['beauty', 'collectibles', 'electronics', 'handmade', 'home', 'kids', 'men', 'other', 'outdoors', 'sports', 'vintage', 'women']\n",
      "=============================================================================================================================\n",
      "After Vectorization of sub category2 feature: \n",
      "(1333494, 141)\n",
      "(148167, 141)\n",
      "(3460725, 141)\n",
      "Some Features are: \n",
      "['feeding', 'footwear', 'fragrance', 'furniture', 'games', 'gear', 'geekery', 'girls', 'glass', 'golf', 'goods', 'gps', 'hair', 'handbags', 'health', 'holidays', 'home', 'hoodies', 'housewares', 'instruments', 'items', 'jackets', 'jeans', 'jewelry', 'kids']\n",
      "=============================================================================================================================\n",
      "After Vectorization of sub category3 feature: \n",
      "(1333494, 963)\n",
      "(148167, 963)\n",
      "(3460725, 963)\n",
      "Some Features are: \n",
      "['basketball', 'baskets', 'bass', 'bath', 'bathing', 'bathroom', 'batteries', 'beach', 'bead', 'beading', 'beads', 'bear', 'bears', 'bed', 'bedding', 'bedroom', 'beds', 'bedspreads', 'beer', 'belt', 'belts', 'beverage', 'bibles', 'bibs', 'bicycle']\n",
      "=============================================================================================================================\n",
      "After Vectorization of brand_name feature: \n",
      "(1333494, 4920)\n",
      "(148167, 4920)\n",
      "(3460725, 4920)\n",
      "Some Features are: \n",
      "['active', 'activewear', 'activision', 'actron', 'acure', 'ad', 'adagio', 'adam', 'adams', 'add', 'addario', 'addison', 'adee', 'aden', 'adidas', 'adler', 'adolfo', 'adonna', 'adora', 'adrianna', 'adriano', 'adrienne', 'advanced', 'advantage', 'advantix']\n",
      "=============================================================================================================================\n"
     ]
    }
   ],
   "source": [
    "from sklearn.feature_extraction.text import CountVectorizer\n",
    "countvectorizer=CountVectorizer().fit(train_data['sub_category1'])                     #fitting\n",
    "bow_cat1_train=countvectorizer.transform(train_data['sub_category1'])\n",
    "bow_cat1_cv=countvectorizer.transform(cv_data['sub_category1'])\n",
    "bow_cat1_test=countvectorizer.transform(test_data['sub_category1'])\n",
    "print(\"After Vectorization of sub category1 feature: \")\n",
    "print(bow_cat1_train.shape)\n",
    "print(bow_cat1_cv.shape)\n",
    "print(bow_cat1_test.shape)\n",
    "print(\"Some Features are: \")\n",
    "print(countvectorizer.get_feature_names())\n",
    "print(\"=\"*125)\n",
    "countvectorizer=CountVectorizer().fit(train_data['sub_category2'])   #fitting\n",
    "bow_cat2_train=countvectorizer.transform(train_data['sub_category2'])\n",
    "bow_cat2_cv=countvectorizer.transform(cv_data['sub_category2'])\n",
    "bow_cat2_test=countvectorizer.transform(test_data['sub_category2'])\n",
    "print(\"After Vectorization of sub category2 feature: \")\n",
    "print(bow_cat2_train.shape)\n",
    "print(bow_cat2_cv.shape)\n",
    "print(bow_cat2_test.shape)\n",
    "print(\"Some Features are: \")\n",
    "print(countvectorizer.get_feature_names()[50:75])\n",
    "print(\"=\"*125)\n",
    "countvectorizer=CountVectorizer().fit(train_data['sub_category3'])   #fitting\n",
    "bow_cat3_train=countvectorizer.transform(train_data['sub_category3'])\n",
    "bow_cat3_cv=countvectorizer.transform(cv_data['sub_category3'])\n",
    "bow_cat3_test=countvectorizer.transform(test_data['sub_category3'])\n",
    "print(\"After Vectorization of sub category3 feature: \")\n",
    "print(bow_cat3_train.shape)\n",
    "print(bow_cat3_cv.shape)\n",
    "print(bow_cat3_test.shape)\n",
    "print(\"Some Features are: \")\n",
    "print(countvectorizer.get_feature_names()[50:75])\n",
    "print(\"=\"*125)\n",
    "countvectorizer=CountVectorizer().fit(train_data['brand_name'])  #fitting\n",
    "bow_brand_train=countvectorizer.transform(train_data['brand_name'])\n",
    "bow_brand_cv=countvectorizer.transform(cv_data['brand_name'])\n",
    "bow_brand_test=countvectorizer.transform(test_data['brand_name'])\n",
    "print(\"After Vectorization of brand_name feature: \")\n",
    "print(bow_brand_train.shape)\n",
    "print(bow_brand_cv.shape)\n",
    "print(bow_brand_test.shape)\n",
    "print(\"Some Features are: \")\n",
    "print(countvectorizer.get_feature_names()[50:75])\n",
    "print(\"=\"*125)"
   ]
  },
  {
   "cell_type": "code",
   "execution_count": 0,
   "metadata": {
    "colab": {
     "base_uri": "https://localhost:8080/",
     "height": 141
    },
    "colab_type": "code",
    "executionInfo": {
     "elapsed": 33038,
     "status": "ok",
     "timestamp": 1585134215254,
     "user": {
      "displayName": "Sai Chaitanya",
      "photoUrl": "https://lh3.googleusercontent.com/a-/AOh14GiokkA-EF_CT2Gr3fZYT6Vfi-QuzaU0qgUO2z0q=s64",
      "userId": "08286913039080874450"
     },
     "user_tz": -330
    },
    "id": "hmTwr29mCHTY",
    "outputId": "118a180f-44bd-4afb-9dc7-c69c50d1287a"
   },
   "outputs": [
    {
     "name": "stdout",
     "output_type": "stream",
     "text": [
      "After Vectorization of brand_name feature: \n",
      "(1333494, 16794)\n",
      "(148167, 16794)\n",
      "(3460725, 16794)\n",
      "Some Features are: \n",
      "['mojito', 'mojo', 'molang', 'mold', 'molds', 'moleskine', 'mollie', 'molly', 'moltres', 'moly', 'mom', 'moment', 'moments', 'momlife', 'momma', 'mommy', 'momo', 'momof3', 'moms', 'mon', 'mona', 'monaco', 'monarch', 'monat', 'moncler']\n"
     ]
    }
   ],
   "source": [
    "countvectorizer=CountVectorizer(min_df=10).fit(train_data['name'])  #fitting\n",
    "bow_name_train=countvectorizer.transform(train_data['name'])\n",
    "bow_name_cv=countvectorizer.transform(cv_data['name'])\n",
    "bow_name_test=countvectorizer.transform(test_data['name'])\n",
    "print(\"After Vectorization of brand_name feature: \")\n",
    "print(bow_name_train.shape)\n",
    "print(bow_name_cv.shape)\n",
    "print(bow_name_test.shape)\n",
    "print(\"Some Features are: \")\n",
    "print(countvectorizer.get_feature_names()[10000:10025])"
   ]
  },
  {
   "cell_type": "code",
   "execution_count": 0,
   "metadata": {
    "colab": {
     "base_uri": "https://localhost:8080/",
     "height": 141
    },
    "colab_type": "code",
    "executionInfo": {
     "elapsed": 210678,
     "status": "ok",
     "timestamp": 1585134392934,
     "user": {
      "displayName": "Sai Chaitanya",
      "photoUrl": "https://lh3.googleusercontent.com/a-/AOh14GiokkA-EF_CT2Gr3fZYT6Vfi-QuzaU0qgUO2z0q=s64",
      "userId": "08286913039080874450"
     },
     "user_tz": -330
    },
    "id": "579wWxRtCqv4",
    "outputId": "db2cc564-f6c8-4452-86ad-8552b8c19078"
   },
   "outputs": [
    {
     "name": "stdout",
     "output_type": "stream",
     "text": [
      "After Vectorization of item description feature: \n",
      "(1333494, 5000)\n",
      "(148167, 5000)\n",
      "(3460725, 5000)\n",
      "Some Features are: \n",
      "['packing', 'packs', 'pacsun', 'pad', 'padded', 'padding', 'pads', 'page', 'pages', 'paid', 'paid product', 'paid rm', 'pain', 'paint', 'painted', 'pair', 'pair rm', 'paired', 'pairs', 'pairs rm', 'paisley', 'pajama', 'pajamas', 'pale', 'pale pink']\n"
     ]
    }
   ],
   "source": [
    "tfidfvectorizer=TfidfVectorizer(ngram_range=(1,2),min_df=10,max_features=5000).fit(train_data['item_description']) #fitting\n",
    "tfidf_description_train=tfidfvectorizer.transform(train_data['item_description'])\n",
    "tfidf_description_cv=tfidfvectorizer.transform(cv_data['item_description'])\n",
    "tfidf_description_test=tfidfvectorizer.transform(test_data['item_description'])\n",
    "print(\"After Vectorization of item description feature: \")\n",
    "print(tfidf_description_train.shape)\n",
    "print(tfidf_description_cv.shape)\n",
    "print(tfidf_description_test.shape)\n",
    "print(\"Some Features are: \")\n",
    "print(tfidfvectorizer.get_feature_names()[3025:3050])  #getting 25 random features."
   ]
  },
  {
   "cell_type": "code",
   "execution_count": 0,
   "metadata": {
    "colab": {
     "base_uri": "https://localhost:8080/",
     "height": 624
    },
    "colab_type": "code",
    "executionInfo": {
     "elapsed": 3175,
     "status": "ok",
     "timestamp": 1585160259043,
     "user": {
      "displayName": "Sai Chaitanya",
      "photoUrl": "https://lh3.googleusercontent.com/a-/AOh14GiokkA-EF_CT2Gr3fZYT6Vfi-QuzaU0qgUO2z0q=s64",
      "userId": "08286913039080874450"
     },
     "user_tz": -330
    },
    "id": "yB9cxhiN7_F3",
    "outputId": "cbebe411-95ce-442f-aa54-ffdcf9254202"
   },
   "outputs": [
    {
     "name": "stdout",
     "output_type": "stream",
     "text": [
      "[-0.15288459  2.54943072 -1.02329326  1.55756967 -0.64881511]\n",
      "After Preprocessing of positive sentiment score:\n",
      "(1333494, 1)\n",
      "(148167, 1)\n",
      "(3460725, 1)\n",
      "=============================================================================================================================\n",
      "[-0.41824262  1.7012617   1.92436742 -0.20629219 -0.41824262]\n",
      "After Preprocessing of negative sentiment score:\n",
      "(1333494, 1)\n",
      "(148167, 1)\n",
      "(3460725, 1)\n",
      "=============================================================================================================================\n",
      "[ 1.13290915 -0.30926719  1.13290915 -0.87011354 -0.53077793]\n",
      "After Preprocessing of neutral sentiment score:\n",
      "(1333494, 1)\n",
      "(148167, 1)\n",
      "(3460725, 1)\n",
      "=============================================================================================================================\n",
      "[ 0.10367151 -0.28067616  1.48874009  1.08718659  0.8822349 ]\n",
      "After Preprocessing of compound sentiment score:\n",
      "(1333494, 1)\n",
      "(148167, 1)\n",
      "(3460725, 1)\n",
      "=============================================================================================================================\n",
      "[-0.1218073  -0.64786662 -0.61498792 -0.38483696]\n",
      "After Preprocessing of description length:\n",
      "(1333494, 1)\n",
      "(148167, 1)\n",
      "(3460725, 1)\n",
      "=============================================================================================================================\n",
      "[-0.66004331  0.11224649  1.98780745  0.11224649 -0.21873485]\n",
      "After Preprocessing of count_stopwords feature:\n",
      "(1333494, 1)\n",
      "(148167, 1)\n",
      "(3460725, 1)\n"
     ]
    }
   ],
   "source": [
    "from sklearn.preprocessing import StandardScaler\n",
    "scaler=StandardScaler().fit(np.array(train_data['positive']).reshape(-1,1))   #fitting\n",
    "positive_train = scaler.transform(np.array(train_data['positive']).reshape(-1,1))\n",
    "positive_cv = scaler.transform(np.array(cv_data['positive']).reshape(-1,1))\n",
    "positive_test = scaler.transform(np.array(test_data['positive']).reshape(-1,1))\n",
    "print(positive_train[50:55].reshape(1,-1)[0])    #printing 5 random postive sentiment scores \n",
    "print(\"After Preprocessing of positive sentiment score:\")\n",
    "print(positive_train.shape)\n",
    "print(positive_cv.shape)\n",
    "print(positive_test.shape)\n",
    "print(\"=\"*125)\n",
    "scaler = StandardScaler().fit(np.array(train_data['negative']).reshape(-1,1))  #fitting\n",
    "negative_train=scaler.transform(np.array(train_data['negative']).reshape(-1,1))\n",
    "negative_cv=scaler.transform(np.array(cv_data['negative']).reshape(-1,1))\n",
    "negative_test=scaler.transform(np.array(test_data['negative']).reshape(-1,1))\n",
    "print(negative_train[25:30].reshape(1,-1)[0])    #printing 5 random negative sentiment score\n",
    "print(\"After Preprocessing of negative sentiment score:\")\n",
    "print(negative_train.shape)\n",
    "print(negative_cv.shape)\n",
    "print(negative_test.shape)\n",
    "print(\"=\"*125)\n",
    "scaler = StandardScaler().fit(np.array(train_data['neutral']).reshape(-1,1))   #fitting\n",
    "neutral_train=scaler.transform(np.array(train_data['neutral']).reshape(-1,1))\n",
    "neutral_cv=scaler.transform(np.array(cv_data['neutral']).reshape(-1,1))\n",
    "neutral_test=scaler.transform(np.array(test_data['neutral']).reshape(-1,1))\n",
    "print(neutral_train[5:10].reshape(1,-1)[0])     #printing 5 random neutral sentiment score\n",
    "print(\"After Preprocessing of neutral sentiment score:\")\n",
    "print(neutral_train.shape)\n",
    "print(neutral_cv.shape)\n",
    "print(neutral_test.shape)\n",
    "print(\"=\"*125)\n",
    "scaler = StandardScaler().fit(np.array(train_data['compound']).reshape(-1,1))  #fitting\n",
    "compound_train=scaler.transform(np.array(train_data['compound']).reshape(-1,1))\n",
    "compound_cv=scaler.transform(np.array(cv_data['compound']).reshape(-1,1))\n",
    "compound_test=scaler.transform(np.array(test_data['compound']).reshape(-1,1))\n",
    "print(compound_train[35:40].reshape(1,-1)[0])   #printing 5 random compound sentiment score\n",
    "print(\"After Preprocessing of compound sentiment score:\")\n",
    "print(compound_train.shape)\n",
    "print(compound_cv.shape)\n",
    "print(compound_test.shape)\n",
    "print(\"=\"*125)\n",
    "scaler = StandardScaler().fit(np.array(train_data['description_length']).reshape(-1,1))  #fitting\n",
    "length_train=scaler.transform(np.array(train_data['description_length']).reshape(-1,1))\n",
    "length_cv=scaler.transform(np.array(cv_data['description_length']).reshape(-1,1))\n",
    "length_test=scaler.transform(np.array(test_data['description_length']).reshape(-1,1))\n",
    "print(length_train[1:5].reshape(1,-1)[0])       #printing 5 random description lengths\n",
    "print(\"After Preprocessing of description length:\")\n",
    "print(length_train.shape)\n",
    "print(length_cv.shape)\n",
    "print(length_test.shape)\n",
    "print(\"=\"*125)\n",
    "scaler = StandardScaler().fit(np.array(train_data['count_stopwords']).reshape(-1,1))   #fitting\n",
    "stopword_train=scaler.transform(np.array(train_data['count_stopwords']).reshape(-1,1))\n",
    "stopword_cv=scaler.transform(np.array(cv_data['count_stopwords']).reshape(-1,1))\n",
    "stopword_test=scaler.transform(np.array(test_data['count_stopwords']).reshape(-1,1))\n",
    "print(stopword_train[15:20].reshape(1,-1)[0])   #printing 5 random stopwords count\n",
    "print(\"After Preprocessing of count_stopwords feature:\")\n",
    "print(stopword_train.shape)\n",
    "print(stopword_cv.shape)\n",
    "print(stopword_test.shape)"
   ]
  },
  {
   "cell_type": "code",
   "execution_count": 0,
   "metadata": {
    "colab": {
     "base_uri": "https://localhost:8080/",
     "height": 69
    },
    "colab_type": "code",
    "executionInfo": {
     "elapsed": 213383,
     "status": "ok",
     "timestamp": 1585134395704,
     "user": {
      "displayName": "Sai Chaitanya",
      "photoUrl": "https://lh3.googleusercontent.com/a-/AOh14GiokkA-EF_CT2Gr3fZYT6Vfi-QuzaU0qgUO2z0q=s64",
      "userId": "08286913039080874450"
     },
     "user_tz": -330
    },
    "id": "Z7iKGCdmAPOm",
    "outputId": "2cd89141-af9f-44dc-d1f4-ba9c51d99734"
   },
   "outputs": [
    {
     "name": "stdout",
     "output_type": "stream",
     "text": [
      "(1333494, 2)\n",
      "(148167, 2)\n",
      "(3460725, 2)\n"
     ]
    }
   ],
   "source": [
    "#https://stackoverflow.com/questions/36285155/pandas-get-dummies\n",
    "\n",
    "features_train = csr_matrix(pd.get_dummies(train_data[['item_condition_id', 'shipping','is_branded']],sparse=True).values)\n",
    "features_cv = csr_matrix(pd.get_dummies(cv_data[['item_condition_id', 'shipping','is_branded']],sparse=True).values)\n",
    "features_test = csr_matrix(pd.get_dummies(test_data[['item_condition_id', 'shipping','is_branded']],sparse=True).values)\n",
    "print(features_train.shape)\n",
    "print(features_cv.shape)\n",
    "print(features_test.shape)"
   ]
  },
  {
   "cell_type": "code",
   "execution_count": 0,
   "metadata": {
    "colab": {
     "base_uri": "https://localhost:8080/",
     "height": 69
    },
    "colab_type": "code",
    "executionInfo": {
     "elapsed": 222898,
     "status": "ok",
     "timestamp": 1585134405262,
     "user": {
      "displayName": "Sai Chaitanya",
      "photoUrl": "https://lh3.googleusercontent.com/a-/AOh14GiokkA-EF_CT2Gr3fZYT6Vfi-QuzaU0qgUO2z0q=s64",
      "userId": "08286913039080874450"
     },
     "user_tz": -330
    },
    "id": "grU4Pb_eFOw4",
    "outputId": "c3543ff6-e865-49b2-83d3-4862834aac3b"
   },
   "outputs": [
    {
     "name": "stdout",
     "output_type": "stream",
     "text": [
      "Shape of train data:  (1333494, 27838)\n",
      "Shape of cv data:  (148167, 27838)\n",
      "Shape of test data:  (3460725, 27838)\n"
     ]
    }
   ],
   "source": [
    "#https://stackoverflow.com/questions/43018711/about-numpys-concatenate-hstack-vstack-functions\n",
    "from scipy.sparse import hstack\n",
    "X_train=hstack((bow_cat1_train,bow_cat2_train,bow_cat3_train,bow_brand_train,bow_name_train,tfidf_description_train,positive_train,negative_train,neutral_train,compound_train,features_train,length_train,stopword_train)).tocsr()\n",
    "X_cv=hstack((bow_cat1_cv,bow_cat2_cv,bow_cat3_cv,bow_brand_cv,bow_name_cv,tfidf_description_cv,positive_cv,negative_cv,neutral_cv,compound_cv,features_cv,length_cv,stopword_cv)).tocsr()\n",
    "X_test=hstack((bow_cat1_test,bow_cat2_test,bow_cat3_test,bow_brand_test,bow_name_test,tfidf_description_test,positive_test,negative_test,neutral_test,compound_test,features_test,length_test,stopword_test)).tocsr()\n",
    "print(\"Shape of train data: \",X_train.shape) #train\n",
    "print(\"Shape of cv data: \",X_cv.shape)   #cv\n",
    "print(\"Shape of test data: \",X_test.shape)   #test"
   ]
  },
  {
   "cell_type": "code",
   "execution_count": 0,
   "metadata": {
    "colab": {
     "base_uri": "https://localhost:8080/",
     "height": 35
    },
    "colab_type": "code",
    "executionInfo": {
     "elapsed": 686220,
     "status": "ok",
     "timestamp": 1585059247453,
     "user": {
      "displayName": "Sai Chaitanya",
      "photoUrl": "https://lh3.googleusercontent.com/a-/AOh14GiokkA-EF_CT2Gr3fZYT6Vfi-QuzaU0qgUO2z0q=s64",
      "userId": "08286913039080874450"
     },
     "user_tz": -330
    },
    "id": "Yxu7FPZf2hPc",
    "outputId": "a6ad8207-dcd1-4aaf-e70e-e5511ceb79f3"
   },
   "outputs": [
    {
     "name": "stdout",
     "output_type": "stream",
     "text": [
      "With Linear Regression RMSLE on train is 0.46090123650225584 RMSLE on cv is 0.4693486598717122\n"
     ]
    }
   ],
   "source": [
    "from sklearn.linear_model import LinearRegression\n",
    "linearregression=LinearRegression(normalize=True)\n",
    "linearregression.fit(X_train,train_data['target'])  #fitting\n",
    "ytrain_predict=linearregression.predict(X_train)\n",
    "ycv_predict=linearregression.predict(X_cv)\n",
    "train_error=np.sqrt(mean_squared_error(train_data['target'],ytrain_predict))\n",
    "cv_error=np.sqrt(mean_squared_error(cv_data['target'],ycv_predict))\n",
    "print(\"With Linear Regression RMSLE on train is {} RMSLE on cv is {}\".format(train_error,cv_error))"
   ]
  },
  {
   "cell_type": "code",
   "execution_count": 0,
   "metadata": {
    "colab": {},
    "colab_type": "code",
    "id": "axtUWf9E_opO"
   },
   "outputs": [],
   "source": [
    "ycv_linear=linearregression.predict(X_cv)\n",
    "ytest_linear=linearregression.predict(X_test)"
   ]
  },
  {
   "cell_type": "code",
   "execution_count": 0,
   "metadata": {
    "colab": {
     "base_uri": "https://localhost:8080/",
     "height": 225
    },
    "colab_type": "code",
    "executionInfo": {
     "elapsed": 1916867,
     "status": "ok",
     "timestamp": 1585068863380,
     "user": {
      "displayName": "Sai Chaitanya",
      "photoUrl": "https://lh3.googleusercontent.com/a-/AOh14GiokkA-EF_CT2Gr3fZYT6Vfi-QuzaU0qgUO2z0q=s64",
      "userId": "08286913039080874450"
     },
     "user_tz": -330
    },
    "id": "vDh4Nj-x4ufZ",
    "outputId": "9812ffc3-af5f-4436-f526-894b0304b14a"
   },
   "outputs": [
    {
     "name": "stdout",
     "output_type": "stream",
     "text": [
      "Fitting 3 folds for each of 7 candidates, totalling 21 fits\n"
     ]
    },
    {
     "name": "stderr",
     "output_type": "stream",
     "text": [
      "[Parallel(n_jobs=-1)]: Using backend LokyBackend with 4 concurrent workers.\n",
      "[Parallel(n_jobs=-1)]: Done  21 out of  21 | elapsed: 23.7min finished\n"
     ]
    },
    {
     "data": {
      "text/plain": [
       "GridSearchCV(cv=3, error_score=nan,\n",
       "             estimator=Lasso(alpha=1.0, copy_X=True, fit_intercept=False,\n",
       "                             max_iter=1000, normalize=False, positive=False,\n",
       "                             precompute=False, random_state=None,\n",
       "                             selection='cyclic', tol=0.0001, warm_start=False),\n",
       "             iid='deprecated', n_jobs=-1,\n",
       "             param_grid={'alpha': [1e-06, 1e-05, 0.0001, 0.001, 0.01, 0.1, 1]},\n",
       "             pre_dispatch='2*n_jobs', refit=True, return_train_score=False,\n",
       "             scoring=None, verbose=1)"
      ]
     },
     "execution_count": 46,
     "metadata": {
      "tags": []
     },
     "output_type": "execute_result"
    }
   ],
   "source": [
    "from sklearn.linear_model import Lasso\n",
    "params={'alpha':[0.000001,0.00001,0.0001,0.001,0.01,0.1,1]}\n",
    "lasso=Lasso(fit_intercept=False)\n",
    "gridsearchcv_lasso=GridSearchCV(lasso,param_grid=params,n_jobs=-1,cv=3,verbose=1,return_train_score=True)\n",
    "gridsearchcv_lasso.fit(X_train,train_data['target'])  #fitting"
   ]
  },
  {
   "cell_type": "code",
   "execution_count": 0,
   "metadata": {
    "colab": {
     "base_uri": "https://localhost:8080/",
     "height": 402
    },
    "colab_type": "code",
    "executionInfo": {
     "elapsed": 2394,
     "status": "ok",
     "timestamp": 1585149777924,
     "user": {
      "displayName": "Sai Chaitanya",
      "photoUrl": "https://lh3.googleusercontent.com/a-/AOh14GiokkA-EF_CT2Gr3fZYT6Vfi-QuzaU0qgUO2z0q=s64",
      "userId": "08286913039080874450"
     },
     "user_tz": -330
    },
    "id": "z-IO-SKMLhQ6",
    "outputId": "8478ca50-037a-409d-f951-189acc35e105"
   },
   "outputs": [
    {
     "name": "stdout",
     "output_type": "stream",
     "text": [
      "Lasso Regression: \n",
      "train_error:  [0.46424316736234644, 0.4791803637812362, 0.524667226421087, 0.602598236163241, 0.6849090885571419, 0.7592210426935225, 1.5530177567469883]\n",
      "cv_error:  [0.46992394285359196, 0.47952353838212114, 0.5220675071491777, 0.601640635113616, 0.6850337911742654, 0.7604648652666045, 1.5518486088341135]\n",
      "\n",
      "\n"
     ]
    },
    {
     "data": {
      "image/png": "[encoded data removed]",
      "text/plain": [
       "<Figure size 432x288 with 1 Axes>"
      ]
     },
     "metadata": {
      "tags": []
     },
     "output_type": "display_data"
    }
   ],
   "source": [
    "alpha=[0.000001,0.00001,0.0001,0.001,0.01,0.1,1]\n",
    "alpha=[math.log(i+1) for i in alpha]\n",
    "values=pd.DataFrame(gridsearchcv_lasso.cv_results_).groupby(['param_alpha']).min().unstack()\n",
    "train_error=values['mean_train_score']\n",
    "cv_error=values['mean_test_score']\n",
    "print(\"Lasso Regression: \")\n",
    "print(\"train_error: \",train_error)\n",
    "print(\"cv_error: \",cv_error)\n",
    "print(\"\\n\")\n",
    "plt.plot(alpha,train_error,label=\"train_error\")\n",
    "plt.scatter(alpha,train_error)\n",
    "plt.plot(alpha,cv_error,label='cv_error')\n",
    "plt.scatter(alpha,cv_error)\n",
    "plt.title(\"Train error vs CV error\")\n",
    "plt.xlabel(\"alpha\")\n",
    "plt.ylabel(\"Error\")\n",
    "plt.grid()\n",
    "plt.legend()\n",
    "plt.show()"
   ]
  },
  {
   "cell_type": "code",
   "execution_count": 0,
   "metadata": {
    "colab": {
     "base_uri": "https://localhost:8080/",
     "height": 35
    },
    "colab_type": "code",
    "executionInfo": {
     "elapsed": 1094,
     "status": "ok",
     "timestamp": 1585071463434,
     "user": {
      "displayName": "Sai Chaitanya",
      "photoUrl": "https://lh3.googleusercontent.com/a-/AOh14GiokkA-EF_CT2Gr3fZYT6Vfi-QuzaU0qgUO2z0q=s64",
      "userId": "08286913039080874450"
     },
     "user_tz": -330
    },
    "id": "6Pdv_lEn8Oir",
    "outputId": "3db5f912-0154-4be2-9b25-ff2b380d4b54"
   },
   "outputs": [
    {
     "data": {
      "text/plain": [
       "{'alpha': 1e-06}"
      ]
     },
     "execution_count": 58,
     "metadata": {
      "tags": []
     },
     "output_type": "execute_result"
    }
   ],
   "source": [
    "gridsearchcv_lasso.best_params_"
   ]
  },
  {
   "cell_type": "code",
   "execution_count": 0,
   "metadata": {
    "colab": {
     "base_uri": "https://localhost:8080/",
     "height": 72
    },
    "colab_type": "code",
    "executionInfo": {
     "elapsed": 336350,
     "status": "ok",
     "timestamp": 1585132213380,
     "user": {
      "displayName": "Sai Chaitanya",
      "photoUrl": "https://lh3.googleusercontent.com/a-/AOh14GiokkA-EF_CT2Gr3fZYT6Vfi-QuzaU0qgUO2z0q=s64",
      "userId": "08286913039080874450"
     },
     "user_tz": -330
    },
    "id": "nzdk0ruO7_xm",
    "outputId": "42885290-69b8-440f-cfd4-68b1a1b8efc8"
   },
   "outputs": [
    {
     "name": "stdout",
     "output_type": "stream",
     "text": [
      "Model is fitting!!!\n",
      "Lasso Regression with alpha = 1e-06 RMSLE on train is 0.46424316736234644 RMSLE on cv is 0.46992394285359196\n"
     ]
    }
   ],
   "source": [
    "lasso = Lasso(alpha=1e-06,fit_intercept=False)\n",
    "print(\"Model is fitting!!!\")\n",
    "lasso.fit(X_train, train_data['target'])\n",
    "ytrain_predict=lasso.predict(X_train)\n",
    "ycv_predict=lasso.predict(X_cv)\n",
    "train_ = np.sqrt(mean_squared_error(train_data['target'], ytrain_predict))\n",
    "cv_=np.sqrt(mean_squared_error(cv_data['target'],ycv_predict))\n",
    "print(\"Lasso Regression with alpha = {} RMSLE on train is {} RMSLE on cv is {}\".format(1e-06,train_,cv_))"
   ]
  },
  {
   "cell_type": "code",
   "execution_count": 0,
   "metadata": {
    "colab": {},
    "colab_type": "code",
    "id": "hN2X55lLCYb-"
   },
   "outputs": [],
   "source": [
    "ycv_lasso=lasso.predict(X_cv)\n",
    "ytest_lasso=lasso.predict(X_test)"
   ]
  },
  {
   "cell_type": "code",
   "execution_count": 0,
   "metadata": {
    "colab": {
     "base_uri": "https://localhost:8080/",
     "height": 225
    },
    "colab_type": "code",
    "executionInfo": {
     "elapsed": 1597,
     "status": "ok",
     "timestamp": 1585157420369,
     "user": {
      "displayName": "Sai Chaitanya",
      "photoUrl": "https://lh3.googleusercontent.com/a-/AOh14GiokkA-EF_CT2Gr3fZYT6Vfi-QuzaU0qgUO2z0q=s64",
      "userId": "08286913039080874450"
     },
     "user_tz": -330
    },
    "id": "H5qAErd1tSa-",
    "outputId": "c229a507-af83-48b0-959b-732418712d47"
   },
   "outputs": [
    {
     "name": "stdout",
     "output_type": "stream",
     "text": [
      "Fitting 3 folds for each of 18 candidates, totalling 54 fits\n",
      "[Parallel(n_jobs=1)]: Using backend SequentialBackend with 4 concurrent workers.\n",
      "[Parallel(n_jobs=1)]: Done  54 out of  54 | elapsed: 22.0min finished \n",
      "GridSearchCV(cv=3, error_score=nan,\n",
      "             estimator=Ridge(alpha=1.0, copy_X=True, fit_intercept=False,\n",
      "                             max_iter=None, normalize=False, random_state=None,\n",
      "                             solver='auto', tol=0.001),\n",
      "                             iid='deprecated', n_jobs=None,\n",
      "                             param_grid={'alpha': [0.00001,0.0001,0.001,0.01,0.1,1,10,100]\n",
      "                                         'solver': ['cholesky', 'lsqr']},\n",
      "                             pre_dispatch='2*n_jobs', refit=True, return_train_score=False,\n",
      "                             scoring=None, verbose=1)\n"
     ]
    }
   ],
   "source": [
    "from sklearn.linear_model import Ridge\n",
    "params={'alpha':[0.00001,0.0001,0.001,0.01,0.1,1,10,100],'solver':['cholesky','lsqr']}\n",
    "ridge=Ridge(fit_intercept=False)\n",
    "gridsearchcv_ridge=GridSearchCV(ridge,param_grid=params,njobs=-1,cv=3,verbose=1,return_train_score=True)\n",
    "gridsearchcv_ridge.fit(X_train,train_data['target'])"
   ]
  },
  {
   "cell_type": "code",
   "execution_count": 0,
   "metadata": {
    "colab": {},
    "colab_type": "code",
    "id": "nHhWRjrCK-NU"
   },
   "outputs": [],
   "source": [
    "def return_result(gridsearchcv,rate):\n",
    "    values=pd.DataFrame(gridsearchcv.cv_results_).groupby(['param_alpha','param_learning_rate']).min().unstack()\n",
    "    train_error=[]\n",
    "    cv_error=[]\n",
    "    for i in range(val.shape[0]):\n",
    "       train_error.append(values.iloc[i]['mean_train_score'==rate])\n",
    "       cv_error.append(values.iloc[i]['mean_test_score'==rate])\n",
    "    print(\"with learning_rate: {}\".format(rate))\n",
    "    print(\"train_error: \",train_error)\n",
    "    print(\"cv_error: \",cv_error)\n",
    "    print(\"\\n\")\n",
    "    return train_error,cv_error"
   ]
  },
  {
   "cell_type": "code",
   "execution_count": 0,
   "metadata": {
    "colab": {
     "base_uri": "https://localhost:8080/",
     "height": 543
    },
    "colab_type": "code",
    "executionInfo": {
     "elapsed": 2097,
     "status": "ok",
     "timestamp": 1585148398195,
     "user": {
      "displayName": "Sai Chaitanya",
      "photoUrl": "https://lh3.googleusercontent.com/a-/AOh14GiokkA-EF_CT2Gr3fZYT6Vfi-QuzaU0qgUO2z0q=s64",
      "userId": "08286913039080874450"
     },
     "user_tz": -330
    },
    "id": "TX-A1eC6IPru",
    "outputId": "6eae99cc-ee00-4427-e312-f50550bcf3e6"
   },
   "outputs": [
    {
     "name": "stdout",
     "output_type": "stream",
     "text": [
      "with learning rate: cholesky\n",
      "train_error:  [0.46123448606764766, 0.4612344861744916, 0.4612344948585147, 0.4612349136577718, 0.4612473569407215, 0.4614697607065464, 0.46373220171730173, 0.4770768200604874]\n",
      "cv_error:  [0.4696215399931567, 0.4696209351546391, 0.46961505451113716, 0.46956801904299456, 0.4693693783323686, 0.4688873665981245, 0.46679662525041055, 0.4798964886244808]\n",
      "\n",
      "\n",
      "with learning rate: lsqr\n",
      "train_error:  [0.47991845817477785, 0.4799184581746841, 0.4799184581742052, 0.47991845821517004, 0.4799184631972253, 0.47991896731873046, 0.47996663778082416, 0.48746082188140344]\n",
      "cv_error:  [0.4804947057712104, 0.48049470476861333, 0.48049469474313433, 0.4804945945374393, 0.480493597387021, 0.4804841134999115, 0.48043514146269295, 0.4866231865954394]\n",
      "\n",
      "\n"
     ]
    },
    {
     "data": {
      "image/png": "[encoded data removed]",
      "text/plain": [
       "<Figure size 1224x360 with 2 Axes>"
      ]
     },
     "metadata": {
      "tags": []
     },
     "output_type": "display_data"
    }
   ],
   "source": [
    "alpha=[0.00001,0.0001,0.001,0.01,0.1,1,10,100]\n",
    "alpha=[math.log(i+1) for i in alpha]\n",
    "plt.figure(figsize=(17,5))\n",
    "plt.subplot(1,2,1)\n",
    "train_error_cholesky,cv_error_cholesky=return_result(gridsearchcv_ridge,'cholesky')\n",
    "plt.plot(alpha,train_error_cholesky,label='train_error')\n",
    "plt.scatter(alpha,train_error_cholesky)\n",
    "plt.plot(alpha,cv_error_cholesky,label='cv_error')\n",
    "plt.xlabel('log(alpha+1)')\n",
    "plt.ylabel('Error')\n",
    "plt.scatter(alpha,cv_error_cholesky)\n",
    "plt.title(\"Error plots of Ridge Regression with learning_rate='cholesky\")\n",
    "plt.legend()\n",
    "plt.grid()\n",
    "plt.subplot(1,2,2)\n",
    "train_error_lsqr,cv_error_lsqr=return_result(gridsearchcv_ridge,'lsqr')\n",
    "plt.plot(alpha,train_error_lsqr,label='train_error')\n",
    "plt.scatter(alpha,train_error_lsqr)\n",
    "plt.plot(alpha,cv_error_lsqr,label='cv_error')\n",
    "plt.scatter(alpha,cv_error_lsqr)\n",
    "plt.title(\"Error plots of Ridge Regression with learning_rate='lsqr\")\n",
    "plt.xlabel(\"log(alpha+1)\")\n",
    "plt.ylabel(\"Error\")\n",
    "plt.legend()\n",
    "plt.grid()\n",
    "plt.show()"
   ]
  },
  {
   "cell_type": "markdown",
   "metadata": {
    "colab_type": "text",
    "id": "3xEKgBDD1Xzu"
   },
   "source": [
    "**Observations:**\n",
    "\n",
    "\n",
    "    *   We trained the model for two learning rates. The error plot of learning rate with **cholesky** on the left and learning rate with **lsqr** on the right side of the plot.**\n",
    "    *   learning rate with 'cholesky' is giving low error metric compared to 'lsqr' learning rate. But the train and cv error plots in 'lsqr' are more coinciding than the 'cholesky' plot.\n",
    "    *   Since In the case of this case study error metric is important 'cholesky' be the best learning rate\n",
    "\n"
   ]
  },
  {
   "cell_type": "code",
   "execution_count": 0,
   "metadata": {
    "colab": {
     "base_uri": "https://localhost:8080/",
     "height": 35
    },
    "colab_type": "code",
    "executionInfo": {
     "elapsed": 3240,
     "status": "ok",
     "timestamp": 1584545329145,
     "user": {
      "displayName": "Sai Chaitanya",
      "photoUrl": "https://lh3.googleusercontent.com/a-/AOh14GiokkA-EF_CT2Gr3fZYT6Vfi-QuzaU0qgUO2z0q=s64",
      "userId": "08286913039080874450"
     },
     "user_tz": -330
    },
    "id": "JALQWuRV95-6",
    "outputId": "1cc6685d-7c01-4266-c6fc-1e806846bc06"
   },
   "outputs": [
    {
     "data": {
      "text/plain": [
       "{'alpha': 10, 'solver': 'cholesky'}"
      ]
     },
     "execution_count": 60,
     "metadata": {
      "tags": []
     },
     "output_type": "execute_result"
    }
   ],
   "source": [
    "gridsearchcv_ridge.best_params_"
   ]
  },
  {
   "cell_type": "markdown",
   "metadata": {
    "colab_type": "text",
    "id": "L_9yXRHLsLWn"
   },
   "source": [
    "**Description:**\n",
    "\n",
    "\n",
    "    *   Hyper parameter plays an important role in model predictions because using hyper parameter tuning we can protest our model from getting underfit and overfit\n",
    "    *   From the Above Error plot we need to pick alpha value(hyper parameter) in such a way that both train and test error are low.\n",
    "    *   With alpha=1 both the test error and train error are closer and are lesser than alpha>1. \n",
    "    *   With alpha=0.0001 the train error is low but test error is much higher than train error.\n",
    "    *   Hence we will choose alpha=10 as the best hyperparameter in this case.\n",
    "\n"
   ]
  },
  {
   "cell_type": "markdown",
   "metadata": {
    "colab_type": "text",
    "id": "fi1G1YzGqT4j"
   },
   "source": [
    "Ridge Regression with Best Hyper Parameters:"
   ]
  },
  {
   "cell_type": "code",
   "execution_count": 0,
   "metadata": {
    "colab": {
     "base_uri": "https://localhost:8080/",
     "height": 72
    },
    "colab_type": "code",
    "executionInfo": {
     "elapsed": 1585,
     "status": "ok",
     "timestamp": 1585157536888,
     "user": {
      "displayName": "Sai Chaitanya",
      "photoUrl": "https://lh3.googleusercontent.com/a-/AOh14GiokkA-EF_CT2Gr3fZYT6Vfi-QuzaU0qgUO2z0q=s64",
      "userId": "08286913039080874450"
     },
     "user_tz": -330
    },
    "id": "bXEHi760v2Cg",
    "outputId": "0ae40be2-675c-48f7-a6e4-2e827940ee2c"
   },
   "outputs": [
    {
     "name": "stdout",
     "output_type": "stream",
     "text": [
      "Model is fitting!!!\n",
      "Ridge Regression with alpha = 1 RMSLE on train is 0.46373220171730173 RMSLE on cv is 0.46679662525041055\n"
     ]
    }
   ],
   "source": [
    "ridge = Ridge(alpha=10,solver='cholesky',fit_intercept=False)\n",
    "print(\"Model is fitting!!!\")\n",
    "ridge.fit(X_train, train_data['target'])\n",
    "ytrain_cholesky_predict=ridge.predict(X_train)\n",
    "ycv_cholesky_predict=ridge.predict(X_cv)\n",
    "train_ = np.sqrt(mean_squared_error(train_data['target'], ytrain_cholesky_predict))\n",
    "cv_=np.sqrt(mean_squared_error(cv_data['target'],ycv_cholesky_predict))\n",
    "print(\"Ridge Regression with alpha = {} RMSLE on train is {} RMSLE on cv is {}\".format(1,train_,cv_))"
   ]
  },
  {
   "cell_type": "code",
   "execution_count": 0,
   "metadata": {
    "colab": {},
    "colab_type": "code",
    "id": "xlS458qGEV99"
   },
   "outputs": [],
   "source": [
    "ycv_ridge=ridge.predict(X_cv)\n",
    "ytest_ridge=ridge.predict(X_test)"
   ]
  },
  {
   "cell_type": "code",
   "execution_count": 0,
   "metadata": {
    "colab": {
     "base_uri": "https://localhost:8080/",
     "height": 295
    },
    "colab_type": "code",
    "executionInfo": {
     "elapsed": 1580,
     "status": "ok",
     "timestamp": 1585157800988,
     "user": {
      "displayName": "Sai Chaitanya",
      "photoUrl": "https://lh3.googleusercontent.com/a-/AOh14GiokkA-EF_CT2Gr3fZYT6Vfi-QuzaU0qgUO2z0q=s64",
      "userId": "08286913039080874450"
     },
     "user_tz": -330
    },
    "id": "U91F7ImDwRYC",
    "outputId": "0bfcf8fd-066d-49a5-eca0-5aabee001dca"
   },
   "outputs": [
    {
     "name": "stdout",
     "output_type": "stream",
     "text": [
      "GridSearchCV(cv=None, error_score=nan,\n",
      "             estimator=SGDRegressor(alpha=0.0001, average=False,\n",
      "                                    early_stopping=False, epsilon=0.1,\n",
      "                                    eta0=0.01, fit_intercept=False,\n",
      "                                    l1_ratio=0.6, learning_rate='invscaling',\n",
      "                                    loss='squared_loss', max_iter=200,\n",
      "                                    n_iter_no_change=5, penalty='l2',\n",
      "                                    power_t=0.25, random_state=None,\n",
      "                                    shuffle=True, tol=0.001,\n",
      "                                    validation_fraction=0.1, verbose=0,\n",
      "                                    warm_start=False),\n",
      "             iid='deprecated', n_jobs=None,\n",
      "             param_grid={'alpha': [0.000000001,0.00000001,0.00001,0.0001,0.001,0.01,0.1,0,1],\n",
      "                         'learning_rate': ['invscaling', 'adaptive']},\n",
      "             pre_dispatch='2*n_jobs', refit=True, return_train_score=True,\n",
      "             scoring=None, verbose=0)\n"
     ]
    }
   ],
   "source": [
    "from sklearn.linear_model import SGDRegressor\n",
    "sgd = SGDRegressor(loss='squared_loss', max_iter=200, penalty='l2',fit_intercept=False,l1_ratio=0.6)\n",
    "params={'alpha':[0.000000001,0.00000001,0.00001,0.0001,0.001,0.01,0.1,0,1,10,100,1000],'learning_rate':['invscaling','adaptive']}\n",
    "gridsearchcv=GridSearchCV(sgd,param_grid=params,return_train_score=True)\n",
    "gridsearchcv.fit(X_train,train_data['target'])   "
   ]
  },
  {
   "cell_type": "code",
   "execution_count": 0,
   "metadata": {
    "colab": {
     "base_uri": "https://localhost:8080/",
     "height": 543
    },
    "colab_type": "code",
    "executionInfo": {
     "elapsed": 2053,
     "status": "ok",
     "timestamp": 1585148920667,
     "user": {
      "displayName": "Sai Chaitanya",
      "photoUrl": "https://lh3.googleusercontent.com/a-/AOh14GiokkA-EF_CT2Gr3fZYT6Vfi-QuzaU0qgUO2z0q=s64",
      "userId": "08286913039080874450"
     },
     "user_tz": -330
    },
    "id": "ceETO_0PNnBP",
    "outputId": "8021b819-8c0f-43f6-bc3e-4f2ff3145205"
   },
   "outputs": [
    {
     "name": "stdout",
     "output_type": "stream",
     "text": [
      "with learning rate: adaptive\n",
      "train_error:  [0.46258151544524667, 0.46258245482048427, 0.46483649432062113, 0.48016147635359874, 0.5205752819395818, 0.5917970847895279, 0.7255153319689673, 0.4625804956434685, 1.0049017176141175]\n",
      "cv_error:  [0.4688558627790037, 0.4688619000720196, 0.4692822488228858, 0.4805051420009014, 0.5189131079049061, 0.5906065711592959, 0.7249848311406205, 0.4688377923404662, 1.0050139402008162]\n",
      "\n",
      "\n",
      "with learning rate: invscaling\n",
      "train_error:  [0.4893846551558464, 0.48954774037696247, 0.48973125711047344, 0.4929607195199796, 0.5213178486837378, 0.5926636632267787, 0.7266517284822288, 0.4894245397695104]\n",
      "cv_error:  [0.4884044531500078, 0.48849486404927006, 0.48871279763132197, 0.4917611240507121, 0.5195797694682748, 0.5915081361184699, 0.7261611151478855, 0.48838273951167877]\n",
      "\n",
      "\n"
     ]
    },
    {
     "data": {
      "image/png": "[encoded data removed]",
      "text/plain": [
       "<Figure size 1224x360 with 2 Axes>"
      ]
     },
     "metadata": {
      "tags": []
     },
     "output_type": "display_data"
    }
   ],
   "source": [
    "alpha=[0.000000001,0.00000001,0.00001,0.0001,0.001,0.01,0.1,0,1]\n",
    "alpha=[math.log(i+1) for i in alpha]\n",
    "plt.figure(figsize=(17,5))\n",
    "plt.subplot(1,2,1)\n",
    "train_error_adaptive,cv_error_adaptive=return_result(gridsearchcv,'adaptive')\n",
    "plt.plot(alpha,train_error_adaptive,label='train_error')\n",
    "plt.scatter(alpha,train_error_adaptive)\n",
    "plt.plot(alpha,cv_error_adaptive,label='cv_error')\n",
    "plt.xlabel('log(alpha+1)')\n",
    "plt.ylabel('Error')\n",
    "plt.scatter(alpha,cv_error_adaptive)\n",
    "plt.title(\"Error plots of SGD with learning_rate='adaptive'\")\n",
    "plt.legend()\n",
    "plt.grid()\n",
    "plt.subplot(1,2,2)\n",
    "train_error_inv,cv_error_inv=return_result(gridsearchcv,'invscaling')\n",
    "plt.plot(alpha,train_error_inv,label='train_error')\n",
    "plt.scatter(alpha,train_error_inv)\n",
    "plt.plot(alpha,cv_error_inv,label='cv_error')\n",
    "plt.scatter(alpha,cv_error_inv)\n",
    "plt.title(\"Error plots of SGD with learning_rate='invscaling'\")\n",
    "plt.xlabel(\"log(alpha+1)\")\n",
    "plt.ylabel(\"Error\")\n",
    "plt.legend()\n",
    "plt.grid()\n",
    "plt.show()"
   ]
  },
  {
   "cell_type": "code",
   "execution_count": 0,
   "metadata": {
    "colab": {
     "base_uri": "https://localhost:8080/",
     "height": 35
    },
    "colab_type": "code",
    "executionInfo": {
     "elapsed": 1060,
     "status": "ok",
     "timestamp": 1584711641816,
     "user": {
      "displayName": "Sai Chaitanya",
      "photoUrl": "https://lh3.googleusercontent.com/a-/AOh14GiokkA-EF_CT2Gr3fZYT6Vfi-QuzaU0qgUO2z0q=s64",
      "userId": "08286913039080874450"
     },
     "user_tz": -330
    },
    "id": "8QGvYFw4IwGj",
    "outputId": "233e97dd-b36a-4b5d-f3aa-cb144f287864"
   },
   "outputs": [
    {
     "name": "stdout",
     "output_type": "stream",
     "text": [
      "{'alpha': 1e-09, 'learning_rate': 'adaptive}\n"
     ]
    }
   ],
   "source": [
    "gridsearchcv.best_params_"
   ]
  },
  {
   "cell_type": "markdown",
   "metadata": {
    "colab_type": "text",
    "id": "gKVVqULZWfjX"
   },
   "source": [
    "Schocatsic gradient regressor with best hyper parameters:"
   ]
  },
  {
   "cell_type": "code",
   "execution_count": 0,
   "metadata": {
    "colab": {
     "base_uri": "https://localhost:8080/",
     "height": 55
    },
    "colab_type": "code",
    "executionInfo": {
     "elapsed": 1603,
     "status": "ok",
     "timestamp": 1585157934422,
     "user": {
      "displayName": "Sai Chaitanya",
      "photoUrl": "https://lh3.googleusercontent.com/a-/AOh14GiokkA-EF_CT2Gr3fZYT6Vfi-QuzaU0qgUO2z0q=s64",
      "userId": "08286913039080874450"
     },
     "user_tz": -330
    },
    "id": "t7mz9AT7xZFC",
    "outputId": "1c6d20e7-f6fc-4cfd-c35b-c0c892a5c981"
   },
   "outputs": [
    {
     "name": "stdout",
     "output_type": "stream",
     "text": [
      "SGD Regression with alpha = 1e-09 RMSLE on train is 0.462581674189578 RMSLE on cv is 0.46885382806201875\n"
     ]
    }
   ],
   "source": [
    "sgd = SGDRegressor(alpha=1e-09,loss='squared_loss',learning_rate='adaptive', max_iter=200, penalty='l2',fit_intercept=False,l1_ratio=0.6)\n",
    "sgd.fit(X_train, train_data['target'])\n",
    "ytrain_predict=sgd.predict(X_train)\n",
    "ycv_predict=sgd.predict(X_cv)\n",
    "train_ = np.sqrt(mean_squared_error(train_data['target'], ytrain_predict))\n",
    "cv_=np.sqrt(mean_squared_error(cv_data['target'],ycv_predict))\n",
    "print(\"SGD Regression with alpha = {} RMSLE on train is {} RMSLE on cv is {}\".format(1e-09,train_,cv_))"
   ]
  },
  {
   "cell_type": "code",
   "execution_count": 0,
   "metadata": {
    "colab": {},
    "colab_type": "code",
    "id": "2y5q1rDwUFsq"
   },
   "outputs": [],
   "source": [
    "#pip install lightgbm"
   ]
  },
  {
   "cell_type": "code",
   "execution_count": 0,
   "metadata": {
    "colab": {
     "base_uri": "https://localhost:8080/",
     "height": 121
    },
    "colab_type": "code",
    "executionInfo": {
     "elapsed": 1606,
     "status": "ok",
     "timestamp": 1585158248027,
     "user": {
      "displayName": "Sai Chaitanya",
      "photoUrl": "https://lh3.googleusercontent.com/a-/AOh14GiokkA-EF_CT2Gr3fZYT6Vfi-QuzaU0qgUO2z0q=s64",
      "userId": "08286913039080874450"
     },
     "user_tz": -330
    },
    "id": "LFg8h9FbyGNJ",
    "outputId": "0f8d7de5-f1cf-4fcb-9a8e-5db74c6e7fb0"
   },
   "outputs": [
    {
     "name": "stdout",
     "output_type": "stream",
     "text": [
      "Fitting 3 folds for each of 16 candidates, totalling 576 fits\n",
      "[Parallel(n_jobs=-1)]: Using backend LokyBackend with 4 concurrent workers.\n",
      "[Parallel(n_jobs=-1)]: Done  18 tasks      | elapsed:  3.5min\n",
      "[Parallel(n_jobs=-1)]: Done 168 tasks      | elapsed: 37.4min\n",
      "[Parallel(n_jobs=-1)]: Done 418 tasks      | elapsed: 115.3min\n",
      "[Parallel(n_jobs=-1)]: Done 576 taks       | elapsed: 126min\n"
     ]
    }
   ],
   "source": [
    "params={'learning_rate':[0.1,0.3,0.5,0.6],'max_depth':[5,8,12,15],'n_estimators':[50,100,150,200],'num_leaves':[15,25,50,75],'boosting_type':['gbdt']}\n",
    "lgbm_params={'sub_sample':0.9,'colsample_bytree':0.8,'min_child_samples':50,'objective':'regression'}\n",
    "lgbm_regressor=LGBMRegressor(**lgbm_params)\n",
    "gridsearchcv=GridSearchCV(lgbm_regressor,param_grid=params,n_jobs=-1,cv=3,verbose=1)\n",
    "gridsearchcv.fit(X_train,train_data['target'],early_stopping_rounds=100,verbose=True)"
   ]
  },
  {
   "cell_type": "code",
   "execution_count": 0,
   "metadata": {
    "colab": {
     "base_uri": "https://localhost:8080/",
     "height": 384
    },
    "colab_type": "code",
    "executionInfo": {
     "elapsed": 3715,
     "status": "ok",
     "timestamp": 1585159682357,
     "user": {
      "displayName": "Sai Chaitanya",
      "photoUrl": "https://lh3.googleusercontent.com/a-/AOh14GiokkA-EF_CT2Gr3fZYT6Vfi-QuzaU0qgUO2z0q=s64",
      "userId": "08286913039080874450"
     },
     "user_tz": -330
    },
    "id": "kyw8T-ig4LkH",
    "outputId": "3d3cbd6d-e458-4ab5-9f03-79005f1e105e"
   },
   "outputs": [
    {
     "data": {
      "image/png": "[encoded data removed]",
      "text/plain": [
       "<Figure size 1224x360 with 4 Axes>"
      ]
     },
     "metadata": {
      "tags": []
     },
     "output_type": "display_data"
    }
   ],
   "source": [
    "fig,ax=plt.subplots(1,2,figsize=(17,5)) \n",
    "sns.set(font_scale=1.3) \n",
    "data=pd.DataFrame(gridsearchcv.cv_results_).groupby(['param_min_samples_split','param_max_depth']).max().unstack()[['mean_train_score','mean_test_score']] \n",
    "sns.heatmap(data.mean_train_score,annot=True,linewidths=0.7,fmt='.4g',ax=ax[0],square=False,yticklabels=['50','100','150','200'])\n",
    "ax[0].set_title(\"Training Data Set\") \n",
    "ax[0].set_xlabel('max_depth')\n",
    "ax[0].set_ylabel('n_estimators')\n",
    "sns.heatmap(data.mean_test_score,annot=True,linewidths=.7,fmt='.4g',ax=ax[1],square=False,yticklabels=['50','100','150','200'])\n",
    "ax[1].set_title(\"Cv Data Set\")\n",
    "ax[1].set_xlabel('max_depth')\n",
    "ax[1].set_ylabel(\"n_estimators\")\n",
    "plt.show()"
   ]
  },
  {
   "cell_type": "code",
   "execution_count": 0,
   "metadata": {
    "colab": {
     "base_uri": "https://localhost:8080/",
     "height": 35
    },
    "colab_type": "code",
    "executionInfo": {
     "elapsed": 995,
     "status": "ok",
     "timestamp": 1584712600551,
     "user": {
      "displayName": "Sai Chaitanya",
      "photoUrl": "https://lh3.googleusercontent.com/a-/AOh14GiokkA-EF_CT2Gr3fZYT6Vfi-QuzaU0qgUO2z0q=s64",
      "userId": "08286913039080874450"
     },
     "user_tz": -330
    },
    "id": "vVwIQWSSLWO7",
    "outputId": "e59bcdf3-666d-406a-eba5-500f369f113d"
   },
   "outputs": [
    {
     "name": "stdout",
     "output_type": "stream",
     "text": [
      "{'learning_rate': 0.1, 'max_depth: 15, 'n_estimators: 200', 'num_leaves: 75', 'boosting_type': 'gbdt'}\n"
     ]
    }
   ],
   "source": [
    "gridsearchcv.best_params_"
   ]
  },
  {
   "cell_type": "code",
   "execution_count": 0,
   "metadata": {
    "colab": {
     "base_uri": "https://localhost:8080/",
     "height": 139
    },
    "colab_type": "code",
    "executionInfo": {
     "elapsed": 1494,
     "status": "ok",
     "timestamp": 1585158356162,
     "user": {
      "displayName": "Sai Chaitanya",
      "photoUrl": "https://lh3.googleusercontent.com/a-/AOh14GiokkA-EF_CT2Gr3fZYT6Vfi-QuzaU0qgUO2z0q=s64",
      "userId": "08286913039080874450"
     },
     "user_tz": -330
    },
    "id": "sec05kLIy-lm",
    "outputId": "66fa592a-0f01-43ed-a7fb-31281cbfad3c"
   },
   "outputs": [
    {
     "name": "stdout",
     "output_type": "stream",
     "text": [
      "LGBMRegressor(boosting_type='gbdt', class_weight=None, colsample_bytree=0.8,\n",
      "              importance_type='split', learning_rate=0.5, max_depth=8,\n",
      "              min_child_samples=50, min_child_weight=0.001, min_split_gain=0.0,\n",
      "              n_estimators=500, n_jobs=-1, num_leaves=80, objective=None,\n",
      "              random_state=None, reg_alpha=0.0, reg_lambda=0.0, silent=True,\n",
      "              sub_sample=0.9, subsample=1.0, subsample_for_bin=200000,\n",
      "              subsample_freq=0)\n"
     ]
    }
   ],
   "source": [
    "from lightgbm import LGBMRegressor\n",
    "params={'learning_rate':[0.1],'max_depth':[15],'n_estimators':[200],'num_leaves':[75],'boosting_type':['gbdt']}\n",
    "lgbm_regressor=LGBMRegressor(learning_rate=0.5,max_depth=8,n_estimators=500,num_leaves=80,boosting_type='gbdt',sub_sample=0.9,colsample_bytree=0.8,min_child_samples=50)\n",
    "lgbm_regressor.fit(X_train,train_data['target'])"
   ]
  },
  {
   "cell_type": "code",
   "execution_count": 0,
   "metadata": {
    "colab": {
     "base_uri": "https://localhost:8080/",
     "height": 35
    },
    "colab_type": "code",
    "executionInfo": {
     "elapsed": 1611,
     "status": "ok",
     "timestamp": 1585158391674,
     "user": {
      "displayName": "Sai Chaitanya",
      "photoUrl": "https://lh3.googleusercontent.com/a-/AOh14GiokkA-EF_CT2Gr3fZYT6Vfi-QuzaU0qgUO2z0q=s64",
      "userId": "08286913039080874450"
     },
     "user_tz": -330
    },
    "id": "rhG6niYBzVe7",
    "outputId": "a90e3040-9d93-47de-bd96-fcfc16c18400"
   },
   "outputs": [
    {
     "name": "stdout",
     "output_type": "stream",
     "text": [
      "RMSLE of train is 0.44273270471579435 RMSLE of test is 0.45903311631135346\n"
     ]
    }
   ],
   "source": [
    "ytrain_predict=lgbm_regressor.predict(X_train)\n",
    "ycv_predict=lgbm_regressor.predict(X_cv)\n",
    "training = np.sqrt(mean_squared_error(train_data['target'], ytrain_predict))\n",
    "cving=np.sqrt(mean_squared_error(cv_data['target'],ycv_predict))\n",
    "print(\"RMSLE of train is {} RMSLE of test is {}\".format(training,cving))"
   ]
  },
  {
   "cell_type": "code",
   "execution_count": 0,
   "metadata": {
    "colab": {},
    "colab_type": "code",
    "id": "1Qo9NL0u-1ru"
   },
   "outputs": [],
   "source": [
    "ycv_lgbm=lgbm_regressor.predict(X_cv)\n",
    "ytest_lgbm=lgbm_regressor.predict(X_test)"
   ]
  },
  {
   "cell_type": "code",
   "execution_count": 0,
   "metadata": {
    "colab": {
     "base_uri": "https://localhost:8080/",
     "height": 35
    },
    "colab_type": "code",
    "executionInfo": {
     "elapsed": 1602,
     "status": "ok",
     "timestamp": 1585158441325,
     "user": {
      "displayName": "Sai Chaitanya",
      "photoUrl": "https://lh3.googleusercontent.com/a-/AOh14GiokkA-EF_CT2Gr3fZYT6Vfi-QuzaU0qgUO2z0q=s64",
      "userId": "08286913039080874450"
     },
     "user_tz": -330
    },
    "id": "PLws3_kRzhY4",
    "outputId": "13141160-e7eb-438d-8229-b216e12091ad"
   },
   "outputs": [
    {
     "name": "stdout",
     "output_type": "stream",
     "text": [
      "0.44872398005672004\n"
     ]
    }
   ],
   "source": [
    "Y_final=(ycv_lgbm*0.6+ycv_lasso*0.2+ycv_ridge*0.1+ycv_linear*0.1)\n",
    "ycv_final=Y_final\n",
    "print(np.sqrt(mean_squared_error(cv_data['target'],ycv_final)))                                                                                                                                                                                                                                                                                                                                                                                                                                                                                                                                                                                                                                                                                                                                                                                                                                                                                                                                                                                                                                                                                                                                                                                                                                                                                                                                                                                                                                                                                                                 "
   ]
  },
  {
   "cell_type": "code",
   "execution_count": 0,
   "metadata": {
    "colab": {},
    "colab_type": "code",
    "id": "QoD66d23o6of"
   },
   "outputs": [],
   "source": [
    "Y_test=(ytest_lgbm*0.6+ytest_lasso*0.2+ytest_ridge*0.1+ytest_linear*0.1)"
   ]
  },
  {
   "cell_type": "code",
   "execution_count": 0,
   "metadata": {
    "colab": {},
    "colab_type": "code",
    "id": "63sSQSemn-7y"
   },
   "outputs": [],
   "source": [
    "mercari_prediction_cv=pd.DataFrame(np.exp(Y_final)+1,columns=['y_final'])\n",
    "mercari_prediction_cv['ycv_lgbm']=np.exp(ycv_lgbm)+1\n",
    "mercari_prediction_cv['ycv_linear']=np.exp(ycv_linear)+1\n",
    "mercari_prediction_cv['ycv_ridge']=np.exp(ycv_ridge)+1"
   ]
  },
  {
   "cell_type": "code",
   "execution_count": 0,
   "metadata": {
    "colab": {},
    "colab_type": "code",
    "id": "iZ-2gKlVo0c9"
   },
   "outputs": [],
   "source": [
    "mercari_prediction_test=pd.DataFrame(np.exp(Y_test)+1,columns=['y_test'])\n",
    "mercari_prediction_test['ytest_lgbm']=np.exp(ytest_lgbm)+1\n",
    "mercari_prediction_test['ytest_linear']=np.exp(ytest_linear)+1\n",
    "mercari_prediction_test['ytest_ridge']=np.exp(ytest_ridge)+1"
   ]
  },
  {
   "cell_type": "code",
   "execution_count": 0,
   "metadata": {
    "colab": {},
    "colab_type": "code",
    "id": "gXneO6xFodLU"
   },
   "outputs": [],
   "source": [
    "mercari_prediction_cv.to_csv(\"/content/mercari_predictioncv.csv\")"
   ]
  },
  {
   "cell_type": "code",
   "execution_count": 0,
   "metadata": {
    "colab": {},
    "colab_type": "code",
    "id": "yZPO17z5pdty"
   },
   "outputs": [],
   "source": [
    "mercari_prediction_test.to_csv(\"/content/mercari_predictiontest.csv\")"
   ]
  },
  {
   "cell_type": "code",
   "execution_count": 0,
   "metadata": {
    "colab": {
     "base_uri": "https://localhost:8080/",
     "height": 81
    },
    "colab_type": "code",
    "executionInfo": {
     "elapsed": 5057,
     "status": "ok",
     "timestamp": 1584726350808,
     "user": {
      "displayName": "Sai Chaitanya",
      "photoUrl": "https://lh3.googleusercontent.com/a-/AOh14GiokkA-EF_CT2Gr3fZYT6Vfi-QuzaU0qgUO2z0q=s64",
      "userId": "08286913039080874450"
     },
     "user_tz": -330
    },
    "id": "kd6Z0YMwWibz",
    "outputId": "cc015ec1-fb1b-4e1c-a6ba-0f6dc29b91cc"
   },
   "outputs": [
    {
     "name": "stderr",
     "output_type": "stream",
     "text": [
      "Using TensorFlow backend.\n"
     ]
    },
    {
     "data": {
      "text/html": [
       "<p style=\"color: red;\">\n",
       "The default version of TensorFlow in Colab will soon switch to TensorFlow 2.x.<br>\n",
       "We recommend you <a href=\"https://www.tensorflow.org/guide/migrate\" target=\"_blank\">upgrade</a> now \n",
       "or ensure your notebook will continue to use TensorFlow 1.x via the <code>%tensorflow_version 1.x</code> magic:\n",
       "<a href=\"https://colab.research.google.com/notebooks/tensorflow_version.ipynb\" target=\"_blank\">more info</a>.</p>\n"
      ],
      "text/plain": [
       "<IPython.core.display.HTML object>"
      ]
     },
     "metadata": {
      "tags": []
     },
     "output_type": "display_data"
    }
   ],
   "source": [
    "import numpy as np\n",
    "import pandas as pd\n",
    "from sklearn.preprocessing import LabelEncoder, MinMaxScaler, StandardScaler\n",
    "from sklearn.model_selection import train_test_split\n",
    "import matplotlib.pyplot as plt\n",
    "%matplotlib inline \n",
    "import math\n",
    "from sklearn.feature_extraction.text import TfidfVectorizer\n",
    "from scipy.sparse import csr_matrix\n",
    "from scipy.sparse import hstack\n",
    "from keras.layers import Input, Dense, BatchNormalization, Activation\n",
    "from keras.models import Model\n",
    "from keras import backend as K\n",
    "from keras.optimizers import Adam\n"
   ]
  },
  {
   "cell_type": "code",
   "execution_count": 0,
   "metadata": {
    "colab": {},
    "colab_type": "code",
    "id": "mMxdftIQadxe"
   },
   "outputs": [],
   "source": [
    "train=pd.read_csv(\"/content/drive/My Drive/mercari_train.csv\")\n",
    "test=pd.read_csv(\"/content/drive/My Drive/mercari_test.csv\")\n",
    "train,val=train_test_split(train,test_size=0.1,random_state=42)"
   ]
  },
  {
   "cell_type": "code",
   "execution_count": 0,
   "metadata": {
    "colab": {
     "base_uri": "https://localhost:8080/",
     "height": 87
    },
    "colab_type": "code",
    "executionInfo": {
     "elapsed": 983,
     "status": "ok",
     "timestamp": 1584726366208,
     "user": {
      "displayName": "Sai Chaitanya",
      "photoUrl": "https://lh3.googleusercontent.com/a-/AOh14GiokkA-EF_CT2Gr3fZYT6Vfi-QuzaU0qgUO2z0q=s64",
      "userId": "08286913039080874450"
     },
     "user_tz": -330
    },
    "id": "rgT0FZrSsOM5",
    "outputId": "f8f99753-1529-4c18-d74b-a121af75cd5d"
   },
   "outputs": [
    {
     "name": "stdout",
     "output_type": "stream",
     "text": [
      "Index(['train_id', 'name', 'item_condition_id', 'category_name', 'brand_name',\n",
      "       'price', 'shipping', 'item_description'],\n",
      "      dtype='object')\n",
      "(1333494, 8) (148167, 8)\n"
     ]
    }
   ],
   "source": [
    "print(train.columns)\n",
    "print(test.columns)\n",
    "print(train.shape, val.shape)"
   ]
  },
  {
   "cell_type": "code",
   "execution_count": 0,
   "metadata": {
    "colab": {},
    "colab_type": "code",
    "id": "yITFx6cEKoxE"
   },
   "outputs": [],
   "source": [
    "import math\n",
    "def handle_data(data):\n",
    "  \"\"\"this function handles Nan values in datasets as well as for a given data point.\"\"\"\n",
    "  if type(data)==type(pd.DataFrame()):   #checking if it is a dataframe or not\n",
    "    data['category_name'].fillna(value='',inplace=True)\n",
    "    data['brand_name'].fillna(value='',inplace=True)\n",
    "    data['item_description'].fillna(value='',inplace=True)\n",
    "    data['total_text']=data['name']+' '+data['category_name']+data['brand_name']+' '+data['item_description']\n",
    "    data['total_name']=data['name']+' '+data['brand_name']\n",
    "    data['item_condition_id']=(data['item_condition_id']-1)/4\n",
    "    if 'price' in data.columns:\n",
    "      return data[['total_text','total_name','item_condition_id','shipping','price']]\n",
    "    else:\n",
    "      return data[['total_text','total_name','item_condition_id','shipping']]\n",
    "\n",
    "  else:      #if the given data is a data point\n",
    "    if type(data['category_name'])==type(float()):  #checking for nan values in category_name\n",
    "      data['category_name']=''\n",
    "    if type(data['brand_name'])==type(float()):     #checking for nan values in brand_name\n",
    "      data['brand_name']=''\n",
    "    if type(data['item_description'])==type(float()):  #checking for nan values in item_description\n",
    "      data['item_description']=''\n",
    "    data['total_text']=data['name']+' '+data['category_name']+data['brand_name']+' '+data['item_description']\n",
    "    data['total_name']=data['name']+' '+data['brand_name']\n",
    "    data['item_condition_id']=(data['item_condition_id']-1)/4\n",
    "    if 'price' in dict(data).keys():  #if price exits we will return it\n",
    "      return data[['total_text','total_name','item_condition_id','shipping','price']]\n",
    "    else:\n",
    "      return data[['total_text','total_name','item_condition_id','shipping']]\n",
    "    return False"
   ]
  },
  {
   "cell_type": "code",
   "execution_count": 0,
   "metadata": {
    "colab": {},
    "colab_type": "code",
    "id": "RSliPGgULj0n"
   },
   "outputs": [],
   "source": [
    "train_=handle_data(train)\n",
    "val_=handle_data(val)\n",
    "test=handle_data(test)"
   ]
  },
  {
   "cell_type": "code",
   "execution_count": 0,
   "metadata": {
    "colab": {},
    "colab_type": "code",
    "id": "aMSDjrAIsapz"
   },
   "outputs": [],
   "source": [
    "train_[\"target\"] = np.log(train.price+1)\n",
    "target_scaler = MinMaxScaler(feature_range=(-1, 1))\n",
    "train_[\"target\"] = target_scaler.fit_transform(train_.target.values.reshape(-1,1))"
   ]
  },
  {
   "cell_type": "code",
   "execution_count": 0,
   "metadata": {
    "colab": {},
    "colab_type": "code",
    "id": "B-uC3Vcr0ckS"
   },
   "outputs": [],
   "source": [
    "vectorizer_name=TfidfVectorizer(max_features=100000,token_pattern='\\w+',ngram_range=(1,2))\n",
    "bow_name_train=vectorizer_name.fit_transform(train_['total_name'])\n",
    "bow_name_val=vectorizer_name.transform(val_['total_name'])\n",
    "bow_name_test=vectorizer_name.transform(test_['total_name'])"
   ]
  },
  {
   "cell_type": "code",
   "execution_count": 0,
   "metadata": {
    "colab": {},
    "colab_type": "code",
    "id": "jnBz_L140_7B"
   },
   "outputs": [],
   "source": [
    "from sklearn.feature_extraction.text import TfidfVectorizer\n",
    "vectorizer_text=TfidfVectorizer(max_features=100000,token_pattern='\\w+',ngram_range=(1,2))\n",
    "bow_text_train=vectorizer_text.fit_transform(train_['total_text'])\n",
    "bow_text_val=vectorizer_text.transform(val_['total_text'])\n",
    "bow_text_test=vectorizer_text.transform(test_['total_text'])"
   ]
  },
  {
   "cell_type": "code",
   "execution_count": 0,
   "metadata": {
    "colab": {
     "base_uri": "https://localhost:8080/",
     "height": 52
    },
    "colab_type": "code",
    "executionInfo": {
     "elapsed": 171632,
     "status": "ok",
     "timestamp": 1584726657920,
     "user": {
      "displayName": "Sai Chaitanya",
      "photoUrl": "https://lh3.googleusercontent.com/a-/AOh14GiokkA-EF_CT2Gr3fZYT6Vfi-QuzaU0qgUO2z0q=s64",
      "userId": "08286913039080874450"
     },
     "user_tz": -330
    },
    "id": "KLruArEJ1dxE",
    "outputId": "b9915e5c-0097-4c37-f0ae-cfad6b381dca"
   },
   "outputs": [
    {
     "name": "stdout",
     "output_type": "stream",
     "text": [
      "(1333494, 2)\n",
      "(148167, 2)\n"
     ]
    }
   ],
   "source": [
    "features_train = csr_matrix(pd.get_dummies(train_[['item_condition_id', 'shipping']],sparse=True).values)\n",
    "features_cv = csr_matrix(pd.get_dummies(val_[['item_condition_id', 'shipping']],sparse=True).values)\n",
    "features_test = csr_matrix(pd.get_dummies(test_[['item_condition_id', 'shipping']],sparse=True).values)\n",
    "print(features_train.shape)\n",
    "print(features_cv.shape)\n",
    "print(features_test.shape)"
   ]
  },
  {
   "cell_type": "code",
   "execution_count": 0,
   "metadata": {
    "colab": {},
    "colab_type": "code",
    "id": "d7pDpRDc1qUP"
   },
   "outputs": [],
   "source": [
    "X_train=hstack([bow_name_train,bow_text_train,features_train])\n",
    "X_val=hstack([bow_name_val,bow_text_val,features_cv])\n",
    "X_test=hstack([bow_name_test,bow_text_test,features_test])"
   ]
  },
  {
   "cell_type": "code",
   "execution_count": 0,
   "metadata": {
    "colab": {},
    "colab_type": "code",
    "id": "MaqTDpSyJhPY"
   },
   "outputs": [],
   "source": [
    "def rmsle(y, y_pred):\n",
    "    assert len(y) == len(y_pred)\n",
    "    to_sum = [(math.log(y_pred[i] + 1) - math.log(y[i] + 1)) ** 2.0 for i,pred in enumerate(y_pred)]\n",
    "    return (sum(to_sum) * (1.0/len(y))) ** 0.5"
   ]
  },
  {
   "cell_type": "code",
   "execution_count": 0,
   "metadata": {
    "colab": {},
    "colab_type": "code",
    "id": "hcje4hbMs3kO"
   },
   "outputs": [],
   "source": [
    "def make_model(input_, log_price, iter):\n",
    "    \"\"\"this function creates and fitts a mlp model \"\"\"\n",
    "    def model():\n",
    "       \"\"\"this function creates a mlp model\"\"\"\n",
    "       input_= Input(shape=(X_train.shape[-1],), dtype='float32', sparse=True) #input layer\n",
    "       layer_1 = Dense(196, activation='relu')(input_)  #layer_1\n",
    "       layer_2 = Dense(64, activation='relu')(layer_1)  #layer_2\n",
    "       layer_3 = Dense(64, activation='relu')(layer_2)  #layer_3\n",
    "       output = Dense(1)(layer_3)                #output layer\n",
    "       model = Model(input_, output)\n",
    "       model.compile(loss=\"mse\", optimizer=Adam(lr=0.003), metrics=[\"mae\"])\n",
    "       return model\n",
    "\n",
    "    model_ = model()     #calling inner function\n",
    "    batchsize = 4096\n",
    "    epochs = 1\n",
    "    if iter%2==0:\n",
    "        input_ = input_.astype(np.bool).astype(np.float32)\n",
    "    model_.fit(input_.tocsr(), log_price, epochs=epochs, batch_size=batchsize, verbose=1)  #Fitting1\n",
    "    model_.fit(input_.tocsr(), log_price, epochs=epochs, batch_size=batchsize*2, verbose=1) #fitting2\n",
    "    model_.fit(input_.tocsr(), log_price, epochs=epochs, batch_size=batchsize*4, verbose=1)  #fitting3\n",
    "    return model_"
   ]
  },
  {
   "cell_type": "code",
   "execution_count": 0,
   "metadata": {
    "colab": {},
    "colab_type": "code",
    "id": "OnDpVe9y1gUx"
   },
   "outputs": [],
   "source": [
    "def prediction(input_, model, iter_):\n",
    "    \"\"\"this function predicts the price basing on the trained model\"\"\"\n",
    "    batchsize = 4000\n",
    "    if iter_%2==0:\n",
    "        input_ = input_.astype(np.bool).astype(np.float32)\n",
    "    preds = model.predict(input_.tocsr(), batch_size=batchsize)\n",
    "    preds = target_scaler.inverse_transform(preds)\n",
    "    preds = np.exp(preds)+1\n",
    "    return preds"
   ]
  },
  {
   "cell_type": "code",
   "execution_count": 0,
   "metadata": {
    "colab": {
     "base_uri": "https://localhost:8080/",
     "height": 433
    },
    "colab_type": "code",
    "executionInfo": {
     "elapsed": 1291,
     "status": "ok",
     "timestamp": 1584699481652,
     "user": {
      "displayName": "Uma Maheswari Narava",
      "photoUrl": "https://lh3.googleusercontent.com/a-/AOh14GiutRuiajhZJ__rFgVeXqOXNS0DhqkejbUjyEqG=s64",
      "userId": "07991441378936975012"
     },
     "user_tz": -330
    },
    "id": "lp3n7f_Cb2Dx",
    "outputId": "a1b991b0-6029-418e-e17b-ff3b0fc61166"
   },
   "outputs": [
    {
     "name": "stdout",
     "output_type": "stream",
     "text": [
      "Epoch 1/1\n",
      "1333494/1333494 [==============================] - 19s 14us/step - loss: 0.0232 - mean_absolute_error: 0.1132\n",
      "Epoch 1/1\n",
      "1333494/1333494 [==============================] - 6s 4us/step - loss: 0.0132 - mean_absolute_error: 0.0855\n",
      "Epoch 1/1\n",
      "1333494/1333494 [==============================] - 5s 3us/step - loss: 0.0083 - mean_absolute_error: 0.0674\n",
      "Epoch 1/1\n",
      "1333494/1333494 [==============================] - 9s 7us/step - loss: 0.0258 - mean_absolute_error: 0.1180\n",
      "Epoch 1/1\n",
      "1333494/1333494 [==============================] - 6s 4us/step - loss: 0.0148 - mean_absolute_error: 0.0910\n",
      "Epoch 1/1\n",
      "1333494/1333494 [==============================] - 5s 4us/step - loss: 0.0107 - mean_absolute_error: 0.0772\n",
      "Epoch 1/1\n",
      "1333494/1333494 [==============================] - 9s 7us/step - loss: 0.0254 - mean_absolute_error: 0.1175\n",
      "Epoch 1/1\n",
      "1333494/1333494 [==============================] - 6s 4us/step - loss: 0.0141 - mean_absolute_error: 0.0884\n",
      "Epoch 1/1\n",
      "1333494/1333494 [==============================] - 5s 3us/step - loss: 0.0098 - mean_absolute_error: 0.0734\n",
      "Epoch 1/1\n",
      "1333494/1333494 [==============================] - 9s 7us/step - loss: 0.0249 - mean_absolute_error: 0.1165\n",
      "Epoch 1/1\n",
      "1333494/1333494 [==============================] - 6s 4us/step - loss: 0.0148 - mean_absolute_error: 0.0910\n",
      "Epoch 1/1\n",
      "1333494/1333494 [==============================] - 5s 4us/step - loss: 0.0108 - mean_absolute_error: 0.0774\n"
     ]
    }
   ],
   "source": [
    "models=[]\n",
    "for i in range(4):\n",
    "  model=make_model(X_train,train_.target,i)  #calling outer function\n",
    "  model.save_weights(\"/content/drive/My Drive/model\"+str(i)+\".hdf5\")    #storing model weights to a hdf5 file"
   ]
  },
  {
   "cell_type": "code",
   "execution_count": 0,
   "metadata": {
    "colab": {
     "base_uri": "https://localhost:8080/",
     "height": 35
    },
    "colab_type": "code",
    "executionInfo": {
     "elapsed": 1128,
     "status": "ok",
     "timestamp": 1584735371826,
     "user": {
      "displayName": "Sai Chaitanya",
      "photoUrl": "https://lh3.googleusercontent.com/a-/AOh14GiokkA-EF_CT2Gr3fZYT6Vfi-QuzaU0qgUO2z0q=s64",
      "userId": "08286913039080874450"
     },
     "user_tz": -330
    },
    "id": "4uNJYtcflk08",
    "outputId": "4a8e6e43-ad7c-4c04-ea62-e8d632cd4d08"
   },
   "outputs": [
    {
     "name": "stdout",
     "output_type": "stream",
     "text": [
      " RMSLE error on test data: 0.41941489743631744\n"
     ]
    }
   ],
   "source": [
    "models_preds = [prediction(X_val, model, i) for i, model in enumerate(models)] #calling prediction prediction\n",
    "models_preds = np.float32(models_preds)\n",
    "y_true = np.array(val.price.values)\n",
    "y_pred = models_preds.mean(axis=0)[:,0]  # finding the mean value of all the predictions done by four models.(ensembling)\n",
    "rmsle_ = rmsle(y_true, y_pred)\n",
    "print(\" RMSLE error on test data: \"+str(rmsle_))"
   ]
  },
  {
   "cell_type": "code",
   "execution_count": 0,
   "metadata": {
    "colab": {},
    "colab_type": "code",
    "id": "VkoICWxltTH5"
   },
   "outputs": [],
   "source": [
    "models_preds = [prediction(X_test, model, i) for i, model in enumerate(models)]  #test data predictions\n",
    "models_preds = np.float32(models_preds)"
   ]
  },
  {
   "cell_type": "code",
   "execution_count": 0,
   "metadata": {
    "colab": {},
    "colab_type": "code",
    "id": "ojACfAUEsNrb"
   },
   "outputs": [],
   "source": [
    "test_values=models_preds.mean(axis=0)[:,0]"
   ]
  },
  {
   "cell_type": "code",
   "execution_count": 0,
   "metadata": {
    "colab": {},
    "colab_type": "code",
    "id": "dafQMX6QD3JW"
   },
   "outputs": [],
   "source": [
    "test_values.to_csv(\"/content/drive/My Drive/mercani_test.csv\")"
   ]
  },
  {
   "cell_type": "code",
   "execution_count": 0,
   "metadata": {
    "colab": {},
    "colab_type": "code",
    "id": "nOtYhCmacRfU"
   },
   "outputs": [],
   "source": [
    "test=pd.read_csv(\"/content/drive/My Drive/mercani_test.csv\")"
   ]
  },
  {
   "cell_type": "code",
   "execution_count": 0,
   "metadata": {
    "colab": {},
    "colab_type": "code",
    "id": "EKyI4HYUBd-M"
   },
   "outputs": [],
   "source": [
    "def price_suggestion(X,vectorizer_name,vectorizer_text):\n",
    "  \n",
    "  \"\"\"this function suggests price of the product on given datapoint\n",
    "      Input_format: data_point(must be 7 or 8 dimentional data) (vector), \n",
    "                    fitted vectorizer model on train['total_name'] (function object), \n",
    "                    fitted vectorizer model on t rain['total_text'] (function object)\n",
    "      Output_format: predicted price (float) , \n",
    "                     price(if it exists in given data point else it returns a string)(float or string)  \"\"\"\n",
    "\n",
    "  X=handle_data(X)           #calling handle_data function that we declared above\n",
    "  if 'price' in dict(X).keys():target=X['price']  #checking if price contains in it or not\n",
    "  else: target='we predicted it'\n",
    "  bow_name=vectorizer_name.transform([X['total_name']])  #name vectorization\n",
    "  bow_text=vectorizer_text.transform([X['total_text']])  #text vectorization\n",
    "  features_1 = csr_matrix(pd.get_dummies(X[['shipping']],sparse=True))\n",
    "  features_2 = csr_matrix(pd.get_dummies(X[['item_condition_id']],sparse=True))\n",
    "  concat=hstack([bow_name,bow_text,features_1,features_2])   #concatinating all the features\n",
    "  predicted_price=[prediction(concat,model,i).tolist()[0][0] for i,model in enumerate(models)]  #storing all the prices predicted by the four models\n",
    "  return np.mean(np.array(predicted_price)),target  #ensembling taking mean out of four results."
   ]
  },
  {
   "cell_type": "code",
   "execution_count": 0,
   "metadata": {
    "colab": {
     "base_uri": "https://localhost:8080/",
     "height": 52
    },
    "colab_type": "code",
    "executionInfo": {
     "elapsed": 1300,
     "status": "ok",
     "timestamp": 1584734286360,
     "user": {
      "displayName": "Sai Chaitanya",
      "photoUrl": "https://lh3.googleusercontent.com/a-/AOh14GiokkA-EF_CT2Gr3fZYT6Vfi-QuzaU0qgUO2z0q=s64",
      "userId": "08286913039080874450"
     },
     "user_tz": -330
    },
    "id": "Mi638HaKe45m",
    "outputId": "8ce3f089-11e4-47cf-a76b-c144fc6291ae"
   },
   "outputs": [
    {
     "name": "stdout",
     "output_type": "stream",
     "text": [
      "Predicted price is: 17.183319091796875 and Actual price of the product is: 22.0\n",
      "Predicted price for the given product is: 16.734951734542847\n"
     ]
    }
   ],
   "source": [
    "predicted,target=price_suggestion(train.iloc[110],vectorizer_name,vectorizer_text)  #some random train data point.\n",
    "if target!='we predicted it':\n",
    "  print(\"Predicted price is: {} and Actual price of the product is: {}\".format(predicted,target))\n",
    "else:\n",
    "  print(\"Predicted price for the given product is: {}\".format(predicted))\n",
    "\n",
    "predicted,target=price_suggestion(test.iloc[110],vectorizer_name,vectorizer_text)   #some random test data point.\n",
    "if target!='we predicted it':\n",
    "  print(\"Predicted price is: {} and Actual price of the product is: {}\".format(predicted,target))\n",
    "else:\n",
    "  print(\"Predicted price for the given product is: {}\".format(predicted))"
   ]
  },
  {
   "cell_type": "code",
   "execution_count": 0,
   "metadata": {
    "colab": {},
    "colab_type": "code",
    "id": "uL9QwpRYBggL"
   },
   "outputs": [],
   "source": [
    "from sklearn.metrics import mean_squared_error\n",
    "def error_metric(X,Y):\n",
    "  \"\"\"this function returns the rmsle error on the target and predicted score\n",
    "     Input_format: X: data point(must be 7 or 8 dimensional datapoint) (vector)\n",
    "                   Y: float \n",
    "     Output format: float (rmsle score) \"\"\"\n",
    "  predicted_score=price_suggestion(X,vectorizer_name,vectorizer_text)\n",
    "  return rmsle([Y],[predicted_score[0]])"
   ]
  },
  {
   "cell_type": "code",
   "execution_count": 0,
   "metadata": {
    "colab": {
     "base_uri": "https://localhost:8080/",
     "height": 52
    },
    "colab_type": "code",
    "executionInfo": {
     "elapsed": 665,
     "status": "ok",
     "timestamp": 1584734276875,
     "user": {
      "displayName": "Sai Chaitanya",
      "photoUrl": "https://lh3.googleusercontent.com/a-/AOh14GiokkA-EF_CT2Gr3fZYT6Vfi-QuzaU0qgUO2z0q=s64",
      "userId": "08286913039080874450"
     },
     "user_tz": -330
    },
    "id": "MI4tU3z1hMwS",
    "outputId": "3ba695c1-3c0d-41a6-c197-ddf255ae4ccb"
   },
   "outputs": [
    {
     "name": "stdout",
     "output_type": "stream",
     "text": [
      "RMSLE on given datapoint is:  0.30200567918093\n",
      "RMSLE on given datapoint is:  0.28598611843228694\n"
     ]
    }
   ],
   "source": [
    "error=error_metric(train_data.iloc[110],train_data.iloc[0]['price'])  #some random train data point\n",
    "print(\"RMSLE on given datapoint is: \",error)\n",
    "\n",
    "error=error_metric(train_data.iloc[170],train_data.iloc[0]['price'])  #some random train data point\n",
    "print(\"RMSLE on given datapoint is: \",error)"
   ]
  },
  {
   "cell_type": "code",
   "execution_count": 0,
   "metadata": {
    "colab": {
     "base_uri": "https://localhost:8080/",
     "height": 208
    },
    "colab_type": "code",
    "executionInfo": {
     "elapsed": 1765,
     "status": "ok",
     "timestamp": 1584699185134,
     "user": {
      "displayName": "Uma Maheswari Narava",
      "photoUrl": "https://lh3.googleusercontent.com/a-/AOh14GiutRuiajhZJ__rFgVeXqOXNS0DhqkejbUjyEqG=s64",
      "userId": "07991441378936975012"
     },
     "user_tz": -330
    },
    "id": "FcYjBvnAYhMf",
    "outputId": "63a252c6-d17f-4793-f7e5-d12d77548887"
   },
   "outputs": [
    {
     "name": "stdout",
     "output_type": "stream",
     "text": [
      "+-----------------------------+-------------+----------+\n",
      "|            model            | train_rmsle | cv_rmsle |\n",
      "+-----------------------------+-------------+----------+\n",
      "|      Linear Regression      |   0.46123   | 0.46961  |\n",
      "|       Lasso Regression      |   0.46463   | 0.46991  |\n",
      "|       Ridge Regression      |   0.46373   | 0.46879  |\n",
      "|             SGD             |   0.46258   | 0.46885  |\n",
      "|             LGBM            |   0.44273   | 0.45903  |\n",
      "| Ensembling of linear models |   0.44356   | 0.44872  |\n",
      "|     Ensembling of MLP's     |   0.40683   | 0.41795  |\n",
      "+-----------------------------+-------------+----------+\n"
     ]
    }
   ],
   "source": [
    "table=PrettyTable()\n",
    "table.field_names=['model','train_rmsle','cv_rmsle']\n",
    "table.add_row(['Linear Regression',0.46123,0.46961])\n",
    "table.add_row(['Lasso Regression',0.46463,0.46991])\n",
    "table.add_row(['Ridge Regression',0.46373,0.46879])\n",
    "table.add_row(['SGD',0.46258,0.46885])\n",
    "table.add_row(['LGBM',0.44273,0.45903])\n",
    "table.add_row(['Ensembling of linear models',0.44356,0.44872])\n",
    "table.add_row([\"Ensembling of MLP's\",0.40683,0.41795])\n",
    "print(table)"
   ]
  },
  {
   "cell_type": "code",
   "execution_count": 0,
   "metadata": {
    "colab": {},
    "colab_type": "code",
    "id": "ALeAv8Zn5Q-4"
   },
   "outputs": [],
   "source": []
  }
 ],
 "metadata": {
  "accelerator": "GPU",
  "colab": {
   "collapsed_sections": [],
   "machine_shape": "hm",
   "name": "mercari_casestudy.ipynb",
   "provenance": []
  },
  "kernelspec": {
   "display_name": "Python 3 (ipykernel)",
   "language": "python",
   "name": "python3"
  },
  "language_info": {
   "codemirror_mode": {
    "name": "ipython",
    "version": 3
   },
   "file_extension": ".py",
   "mimetype": "text/x-python",
   "name": "python",
   "nbconvert_exporter": "python",
   "pygments_lexer": "ipython3",
   "version": "3.9.13"
  }
 },
 "nbformat": 4,
 "nbformat_minor": 1
}
